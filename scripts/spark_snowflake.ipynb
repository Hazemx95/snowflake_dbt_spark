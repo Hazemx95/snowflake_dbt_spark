{
 "cells": [
  {
   "cell_type": "markdown",
   "id": "9c729820",
   "metadata": {},
   "source": [
    "#### Hello im my notebook the name it pyspark_snowflake"
   ]
  },
  {
   "cell_type": "markdown",
   "id": "6ccf89a0",
   "metadata": {},
   "source": [
    "**Set the configuration to allow spark session in primary node complete**"
   ]
  },
  {
   "cell_type": "code",
   "execution_count": null,
   "id": "13b20f2c",
   "metadata": {},
   "outputs": [],
   "source": [
    "!pip show pyspark "
   ]
  },
  {
   "cell_type": "code",
   "execution_count": null,
   "id": "a10be5e4",
   "metadata": {},
   "outputs": [],
   "source": [
    "!java --version"
   ]
  },
  {
   "cell_type": "code",
   "execution_count": null,
   "id": "54ee8020",
   "metadata": {},
   "outputs": [],
   "source": [
    "!whereis java"
   ]
  },
  {
   "cell_type": "code",
   "execution_count": null,
   "id": "bdc77359",
   "metadata": {},
   "outputs": [],
   "source": [
    "!export JAVA_HOME=/opt/jdk"
   ]
  },
  {
   "cell_type": "code",
   "execution_count": null,
   "id": "036b883b",
   "metadata": {},
   "outputs": [],
   "source": [
    "!export PATH=$JAVA_HOME/bin:$PATH"
   ]
  },
  {
   "cell_type": "code",
   "execution_count": null,
   "id": "b9ae4365",
   "metadata": {},
   "outputs": [],
   "source": [
    "!java --version"
   ]
  },
  {
   "cell_type": "code",
   "execution_count": null,
   "id": "2c3cd687",
   "metadata": {},
   "outputs": [],
   "source": [
    "!which spark-submit"
   ]
  },
  {
   "cell_type": "code",
   "execution_count": null,
   "id": "22a781a7",
   "metadata": {},
   "outputs": [],
   "source": [
    "from pyspark.sql import SparkSession"
   ]
  },
  {
   "cell_type": "code",
   "execution_count": null,
   "id": "f0ce2abc",
   "metadata": {},
   "outputs": [],
   "source": [
    "\n",
    "spark = SparkSession.builder \\\n",
    "    .appName('sparksnowflake') \\\n",
    "    .config('spark.jars', '/home/hazem/snowflake_dbt_spark/snowflake_dbt/jars/mysql-connector-j-8.4.0.jar') \\\n",
    "    .enableHiveSupport() \\\n",
    "    .getOrCreate()\n"
   ]
  },
  {
   "cell_type": "code",
   "execution_count": null,
   "id": "bcc1cb60",
   "metadata": {},
   "outputs": [],
   "source": [
    "sc = spark.sparkContext"
   ]
  },
  {
   "cell_type": "code",
   "execution_count": null,
   "id": "e5ec19d8",
   "metadata": {},
   "outputs": [],
   "source": [
    "spark"
   ]
  },
  {
   "cell_type": "code",
   "execution_count": null,
   "id": "3e299192",
   "metadata": {},
   "outputs": [],
   "source": [
    "sc"
   ]
  },
  {
   "cell_type": "code",
   "execution_count": null,
   "id": "3a9bcdc0",
   "metadata": {},
   "outputs": [],
   "source": [
    "spark.sparkContext.setLogLevel(\"ERROR\")\n"
   ]
  },
  {
   "cell_type": "code",
   "execution_count": null,
   "id": "e1bb2131",
   "metadata": {},
   "outputs": [],
   "source": [
    "from pyspark.sql.functions import *"
   ]
  },
  {
   "cell_type": "code",
   "execution_count": null,
   "id": "77ddaa85",
   "metadata": {},
   "outputs": [],
   "source": [
    "from pyspark.sql.types import *"
   ]
  },
  {
   "cell_type": "code",
   "execution_count": null,
   "id": "dde74cd3",
   "metadata": {},
   "outputs": [],
   "source": [
    "import pyspark.sql.functions as fn "
   ]
  },
  {
   "cell_type": "code",
   "execution_count": null,
   "id": "913b4f03",
   "metadata": {},
   "outputs": [],
   "source": [
    "!pip install pandas "
   ]
  },
  {
   "cell_type": "code",
   "execution_count": null,
   "id": "36a6c0e8",
   "metadata": {},
   "outputs": [],
   "source": [
    "import pandas as pd"
   ]
  },
  {
   "cell_type": "code",
   "execution_count": null,
   "id": "284647d8",
   "metadata": {},
   "outputs": [],
   "source": [
    "!python3 -V"
   ]
  },
  {
   "cell_type": "code",
   "execution_count": null,
   "id": "83411c70",
   "metadata": {},
   "outputs": [],
   "source": [
    "!pip list"
   ]
  },
  {
   "cell_type": "code",
   "execution_count": null,
   "id": "610a0193",
   "metadata": {},
   "outputs": [],
   "source": [
    "data_list = [(1 , 'Ahmed','Omar' , 'Maadi' ,'male',['tennsi' , 'reading' ,'cooking']) , \n",
    "             (2 , 'Khaled','Montaser' , 'Helwan' ,'male',['football' , 'smoking' ,'cooking']),\n",
    "             (3 , 'Hager','Ali' , 'Maadi' ,'female',['vollyball' , 'painting' ,'cooking']),\n",
    "             (4 , 'Asmaa','Mansour' , 'Nacercity' ,None,['TV' , 'reading' ,'cooking'])              \n",
    "            ]"
   ]
  },
  {
   "cell_type": "code",
   "execution_count": null,
   "id": "3df2d2d8",
   "metadata": {},
   "outputs": [],
   "source": [
    "print(type(data_list))"
   ]
  },
  {
   "cell_type": "code",
   "execution_count": null,
   "id": "2e25b3a5",
   "metadata": {},
   "outputs": [],
   "source": [
    "print(f\"{data_list}\" , end= ' ')"
   ]
  },
  {
   "cell_type": "code",
   "execution_count": null,
   "id": "c3eb8168",
   "metadata": {},
   "outputs": [],
   "source": [
    "i=0\n",
    "for index , item in list(enumerate(data_list[1])):\n",
    "    print(item)\n",
    "   \n",
    "    \n"
   ]
  },
  {
   "cell_type": "code",
   "execution_count": null,
   "id": "25db658d",
   "metadata": {},
   "outputs": [],
   "source": [
    "for item in data_list[0]:\n",
    "    print(item )"
   ]
  },
  {
   "cell_type": "code",
   "execution_count": null,
   "id": "c0830494",
   "metadata": {},
   "outputs": [],
   "source": [
    "data_dict = {'ID':1 , 'Name':'Hazem' , 'Age':29} "
   ]
  },
  {
   "cell_type": "code",
   "execution_count": null,
   "id": "684eceb4",
   "metadata": {},
   "outputs": [],
   "source": [
    "words = 'Address'\n",
    "if words in data_dict:\n",
    "    data_dict[words] = 'Maadi'\n",
    "else:\n",
    "    data_dict[words] = 'None'\n",
    "print(f'{data_dict}')"
   ]
  },
  {
   "cell_type": "code",
   "execution_count": null,
   "id": "4a324fd0",
   "metadata": {},
   "outputs": [],
   "source": [
    "data_dict.items()"
   ]
  },
  {
   "cell_type": "code",
   "execution_count": null,
   "id": "d49733b2",
   "metadata": {},
   "outputs": [],
   "source": [
    "#('ID', 1)\n",
    "for (index , word) in sorted(data_dict.items()):\n",
    "    print(f'Index: {index:<8} | {word}')"
   ]
  },
  {
   "cell_type": "code",
   "execution_count": null,
   "id": "cd4c8019",
   "metadata": {},
   "outputs": [],
   "source": [
    "if data_dict[words]== 'Maadi':\n",
    "    print(len(data_dict))"
   ]
  },
  {
   "cell_type": "code",
   "execution_count": null,
   "id": "21abbfe4",
   "metadata": {},
   "outputs": [],
   "source": [
    "from pyspark.sql.functions import *"
   ]
  },
  {
   "cell_type": "code",
   "execution_count": null,
   "id": "1159a565",
   "metadata": {},
   "outputs": [],
   "source": [
    "from pyspark.sql.types import *"
   ]
  },
  {
   "cell_type": "code",
   "execution_count": null,
   "id": "12ed4067",
   "metadata": {},
   "outputs": [],
   "source": [
    "import pyspark.sql.functions as fn "
   ]
  },
  {
   "cell_type": "code",
   "execution_count": null,
   "id": "c437deee",
   "metadata": {},
   "outputs": [],
   "source": [
    "# create programmatic schemaa \n",
    "schemaa = StructType([\n",
    "    StructField('ID' , IntegerType() , True) ,\n",
    "    StructField('First_Name' , StringType() , True) ,\n",
    "    StructField('Last_Name' , StringType() , True) ,\n",
    "    StructField('Address' , StringType() , True) ,\n",
    "    StructField('Gender' , StringType() , True) ,\n",
    "    StructField('Hobbits' , ArrayType(StringType()) , True) ,\n",
    "])"
   ]
  },
  {
   "cell_type": "code",
   "execution_count": null,
   "id": "725bf6d8",
   "metadata": {},
   "outputs": [],
   "source": [
    "data_df = spark.createDataFrame(data_list , schema= schemaa)"
   ]
  },
  {
   "cell_type": "code",
   "execution_count": null,
   "id": "b91a9a8c",
   "metadata": {},
   "outputs": [],
   "source": [
    "data_df.printSchema()\n"
   ]
  },
  {
   "cell_type": "code",
   "execution_count": null,
   "id": "19e8a4d9",
   "metadata": {},
   "outputs": [],
   "source": [
    "data_df.dtypes"
   ]
  },
  {
   "cell_type": "code",
   "execution_count": null,
   "id": "fb052111",
   "metadata": {},
   "outputs": [],
   "source": [
    "data_df.show(n=4 , truncate=False)"
   ]
  },
  {
   "cell_type": "code",
   "execution_count": null,
   "id": "e997816c",
   "metadata": {},
   "outputs": [],
   "source": [
    "data_df_date_add = data_df.withColumn('hire_date' , current_timestamp())"
   ]
  },
  {
   "cell_type": "code",
   "execution_count": null,
   "id": "fe7e0a58",
   "metadata": {},
   "outputs": [],
   "source": [
    "data_df_date_add.show(truncate=False)"
   ]
  },
  {
   "cell_type": "code",
   "execution_count": null,
   "id": "7e4a73a1",
   "metadata": {},
   "outputs": [],
   "source": [
    "data_df_date_add.dtypes"
   ]
  },
  {
   "cell_type": "code",
   "execution_count": null,
   "id": "4a247b45",
   "metadata": {},
   "outputs": [],
   "source": [
    "data_df_date_add_date = data_df_date_add.withColumn('hire_date' , col('hire_date').cast(DateType()))"
   ]
  },
  {
   "cell_type": "code",
   "execution_count": null,
   "id": "8fa9a3d3",
   "metadata": {},
   "outputs": [],
   "source": [
    "data_df_date_add_to_date  = data_df_date_add.withColumn('hire_date' , to_date(col('hire_date'))).show()"
   ]
  },
  {
   "cell_type": "code",
   "execution_count": null,
   "id": "9017cc50",
   "metadata": {},
   "outputs": [],
   "source": [
    "data_df_date_add_to_timstamp = data_df_date_add.withColumn('hire_date' , to_timestamp(col('hire_date') , 'yyyy-dd-MM')).show(truncate=False)"
   ]
  },
  {
   "cell_type": "code",
   "execution_count": null,
   "id": "8f8f5f88",
   "metadata": {},
   "outputs": [],
   "source": [
    "data_df_date_add_date.dtypes"
   ]
  },
  {
   "cell_type": "code",
   "execution_count": null,
   "id": "7446589d",
   "metadata": {},
   "outputs": [],
   "source": [
    "data_df_date_add_date.cache()"
   ]
  },
  {
   "cell_type": "code",
   "execution_count": null,
   "id": "610afe0b",
   "metadata": {},
   "outputs": [],
   "source": [
    "data_df_date_add_date.show(truncate=False)"
   ]
  },
  {
   "cell_type": "code",
   "execution_count": null,
   "id": "a2e7af41",
   "metadata": {},
   "outputs": [],
   "source": [
    "data_df_date_add_date_select = data_df_date_add_date.select('ID' ,data_df_date_add_date['First_Name'].alias('first_name') , year(col('hire_date')).alias('year_date'))"
   ]
  },
  {
   "cell_type": "code",
   "execution_count": null,
   "id": "78177ec8",
   "metadata": {},
   "outputs": [],
   "source": [
    "data_df_date_add_date_select.show()"
   ]
  },
  {
   "cell_type": "code",
   "execution_count": null,
   "id": "7ff4a8ad",
   "metadata": {},
   "outputs": [],
   "source": [
    "data_df_date_add_date_null = data_df_date_add_date.na.fill('N/A' ,subset=['Gender'])"
   ]
  },
  {
   "cell_type": "code",
   "execution_count": null,
   "id": "70c49425",
   "metadata": {},
   "outputs": [],
   "source": [
    "data_df_date_add_date_null.show()"
   ]
  },
  {
   "cell_type": "code",
   "execution_count": null,
   "id": "881b4872",
   "metadata": {},
   "outputs": [],
   "source": [
    "data_df_date_add_date.show()"
   ]
  },
  {
   "cell_type": "code",
   "execution_count": null,
   "id": "20f4d1bb",
   "metadata": {},
   "outputs": [],
   "source": [
    "data_df_date_add_date_null_co = data_df_date_add_date.withColumn('Gender',coalesce(col('Gender'),lit('N/A')))"
   ]
  },
  {
   "cell_type": "code",
   "execution_count": null,
   "id": "530a74c7",
   "metadata": {},
   "outputs": [],
   "source": [
    "data_df_date_add_date_null_co.show()"
   ]
  },
  {
   "cell_type": "code",
   "execution_count": null,
   "id": "d8a2c4d9",
   "metadata": {},
   "outputs": [],
   "source": [
    "data_df_date_add_date_null_co_hire = data_df_date_add_date_null_co.withColumn('hire_date', date_format(col('hire_date'),'dd-MM-yyyy'))"
   ]
  },
  {
   "cell_type": "code",
   "execution_count": null,
   "id": "42c4645f",
   "metadata": {},
   "outputs": [],
   "source": [
    "data_df_date_add_date_null_co_hire.show()"
   ]
  },
  {
   "cell_type": "code",
   "execution_count": null,
   "id": "2dd0f919",
   "metadata": {},
   "outputs": [],
   "source": [
    "# Sliver Layer Check about the columns \n",
    "data_df_date_add_date_null_co_hire.select('*')\\\n",
    ".count()\n"
   ]
  },
  {
   "cell_type": "code",
   "execution_count": null,
   "id": "25026429",
   "metadata": {},
   "outputs": [],
   "source": [
    "# codeing for bronz layer make a dta ingest\n",
    "data_csv = spark.read.format('csv')\\\n",
    ".option('inferSchema' , 'True')\\\n",
    ".option('header' ,'True')\\\n",
    ".option('samplingRatio',0.001)\\\n",
    ".option('path', '/home/hazem/snowflake_dbt_spark/datasets/source_crm/cust_info.csv')\\\n",
    ".load()"
   ]
  },
  {
   "cell_type": "code",
   "execution_count": null,
   "id": "af283e8f",
   "metadata": {},
   "outputs": [],
   "source": [
    "data_csv.dtypes"
   ]
  },
  {
   "cell_type": "code",
   "execution_count": null,
   "id": "10e21144",
   "metadata": {},
   "outputs": [],
   "source": [
    "data_csv.printSchema()"
   ]
  },
  {
   "cell_type": "code",
   "execution_count": null,
   "id": "07aecc6b",
   "metadata": {},
   "outputs": [],
   "source": [
    "data_csv.show(10)"
   ]
  },
  {
   "cell_type": "code",
   "execution_count": null,
   "id": "9499e8ff",
   "metadata": {},
   "outputs": [],
   "source": [
    "data_csv_count = data_csv.select('*')\\\n",
    ".count()"
   ]
  },
  {
   "cell_type": "code",
   "execution_count": null,
   "id": "87f669ed",
   "metadata": {},
   "outputs": [],
   "source": [
    "# validation for bronz layer (Tracebility and dubging)\n",
    "data_csv_count"
   ]
  },
  {
   "cell_type": "code",
   "execution_count": null,
   "id": "b09a5243",
   "metadata": {},
   "outputs": [],
   "source": [
    "data_csv.dtypes"
   ]
  },
  {
   "cell_type": "code",
   "execution_count": null,
   "id": "72a5ef4a",
   "metadata": {},
   "outputs": [],
   "source": [
    "# Sliver layer check about the data quality \n",
    "data_csv.show(5)"
   ]
  },
  {
   "cell_type": "code",
   "execution_count": null,
   "id": "dd1b55c9",
   "metadata": {},
   "outputs": [],
   "source": [
    "# first column cst_id check the data about it (data qulity)\n",
    "# when the checking end have issus what,s mean have duplication and redadency\n",
    "data_csv_cst_id = data_csv.select('*')\\\n",
    ".groupBy('cst_id')\\\n",
    ".agg(fn.count('*').alias('count_number'))\\\n",
    ".where((col('cst_id').isNotNull()) & (col('count_number') > 1)).show()\n"
   ]
  },
  {
   "cell_type": "code",
   "execution_count": null,
   "id": "4ae3a9f9",
   "metadata": {},
   "outputs": [],
   "source": [
    "# Now solve this issus to get good quallity\n",
    "# create tmp view this view virtual but needed to write sql operation \n",
    "data_csv.createOrReplaceTempView('customer_info')"
   ]
  },
  {
   "cell_type": "code",
   "execution_count": null,
   "id": "b5552432",
   "metadata": {},
   "outputs": [],
   "source": [
    "spark.sql('CREATE DATABASE IF NOT EXISTS Employee')"
   ]
  },
  {
   "cell_type": "code",
   "execution_count": null,
   "id": "ee7cb397",
   "metadata": {},
   "outputs": [],
   "source": [
    "spark.sql('USE Employee')"
   ]
  },
  {
   "cell_type": "code",
   "execution_count": null,
   "id": "202dd112",
   "metadata": {},
   "outputs": [],
   "source": [
    "data_csv_cst_id_edit = spark.sql('''\n",
    "    SELECT * , ROW_NUMBER() over(PARTITION BY cst_id ORDER BY cst_id) as rn  FROM customer_info as crm\n",
    "''').show()"
   ]
  },
  {
   "cell_type": "code",
   "execution_count": null,
   "id": "33dcc4ba",
   "metadata": {},
   "outputs": [],
   "source": [
    "data_csv_cst_id_edit = spark.sql('''\n",
    "    SELECT t.cst_id,t.cst_key,t.cst_firstname,t.cst_lastname,t.cst_marital_status,t.cst_gndr,t.cst_create_date\n",
    "                                  FROM(\n",
    "                SELECT * , ROW_NUMBER() over(PARTITION BY cst_id ORDER BY cst_id) as rn  FROM customer_info as crm\n",
    "                )t\n",
    "        WHERE t.rn = 1 AND t.cst_id IS NOT NULL \n",
    "''')"
   ]
  },
  {
   "cell_type": "code",
   "execution_count": null,
   "id": "7980d0b8",
   "metadata": {},
   "outputs": [],
   "source": [
    "data_csv_cst_id_edit.show()"
   ]
  },
  {
   "cell_type": "markdown",
   "id": "0dc67c49",
   "metadata": {},
   "source": [
    "### Now column in customer information remove the replica and redandancy "
   ]
  },
  {
   "cell_type": "code",
   "execution_count": null,
   "id": "d8d371a6",
   "metadata": {},
   "outputs": [],
   "source": [
    "# Now check after making data qulity in column cst_id\n",
    "data_csv_cst_id = data_csv_cst_id_edit.select('*')\\\n",
    ".groupBy('cst_id')\\\n",
    ".agg(fn.count('*').alias('count_number'))\\\n",
    ".where((col('cst_id').isNotNull()) & (col('count_number') > 1)).show()"
   ]
  },
  {
   "cell_type": "code",
   "execution_count": null,
   "id": "3af341c3",
   "metadata": {},
   "outputs": [],
   "source": [
    "data_csv_cst_id_edit.show(2)"
   ]
  },
  {
   "cell_type": "code",
   "execution_count": null,
   "id": "24c39229",
   "metadata": {},
   "outputs": [],
   "source": [
    "data_csv_cst_cst_key_edit = data_csv_cst_id_edit.withColumn('cst_key' , regexp_extract(col('cst_key') , '(0.*)',1))"
   ]
  },
  {
   "cell_type": "code",
   "execution_count": null,
   "id": "6abbb787",
   "metadata": {},
   "outputs": [],
   "source": [
    "data_csv_cst_cst_key_edit.show(2)"
   ]
  },
  {
   "cell_type": "code",
   "execution_count": null,
   "id": "9bf90134",
   "metadata": {},
   "outputs": [],
   "source": [
    "# Remove Null's values \n",
    "data_csv_cst_cst_key_edit_null = data_csv_cst_cst_key_edit.select('*')\\\n",
    ".where(col('cst_key').isNotNull())"
   ]
  },
  {
   "cell_type": "code",
   "execution_count": null,
   "id": "aa5a1f9e",
   "metadata": {},
   "outputs": [],
   "source": [
    "data_csv_cst_cst_key_edit_null.show(2)"
   ]
  },
  {
   "cell_type": "code",
   "execution_count": null,
   "id": "8575cd4a",
   "metadata": {},
   "outputs": [],
   "source": [
    "# Now check about the data cleasing unwanted spaces\n",
    "data_csv_cst_firstname_check = data_csv_cst_cst_key_edit_null.select('cst_firstname')\\\n",
    ".where(col('cst_firstname') != trim('cst_firstname')).count()"
   ]
  },
  {
   "cell_type": "code",
   "execution_count": null,
   "id": "18610c49",
   "metadata": {},
   "outputs": [],
   "source": [
    "# Now have a problem have 17 unwantwed spaces names \n",
    "data_csv_cst_firstname_check"
   ]
  },
  {
   "cell_type": "code",
   "execution_count": null,
   "id": "e5944bb3",
   "metadata": {},
   "outputs": [],
   "source": [
    "# Now solve this problem to handle unwanted spaces \n",
    "data_csv_cst_names_trim = data_csv_cst_cst_key_edit_null.withColumn('cst_firstname' , trim(col('cst_firstname')))\\\n",
    "    .withColumn('cst_lastname',trim(col('cst_lastname')))"
   ]
  },
  {
   "cell_type": "code",
   "execution_count": null,
   "id": "bb4531bb",
   "metadata": {},
   "outputs": [],
   "source": [
    "data_csv_cst_names_trim.show()"
   ]
  },
  {
   "cell_type": "code",
   "execution_count": null,
   "id": "ee27d026",
   "metadata": {},
   "outputs": [],
   "source": [
    "data_csv_cst_firstname_check_after_trim = data_csv_cst_names_trim.select('cst_firstname')\\\n",
    ".where(col('cst_firstname') != trim('cst_firstname')).count()"
   ]
  },
  {
   "cell_type": "code",
   "execution_count": null,
   "id": "4fc7e6ab",
   "metadata": {},
   "outputs": [],
   "source": [
    "# Now data good quality by removing unwanted spaces from cst_firstname and cst_lastname\n",
    "data_csv_cst_firstname_check_after_trim"
   ]
  },
  {
   "cell_type": "code",
   "execution_count": null,
   "id": "c2a1d5a1",
   "metadata": {},
   "outputs": [],
   "source": [
    "data_csv_cst_names_trim.show(5)"
   ]
  },
  {
   "cell_type": "code",
   "execution_count": null,
   "id": "293f54d5",
   "metadata": {},
   "outputs": [],
   "source": [
    "# Now check about the data standralization and consistency \n",
    "data_csv_cst_marital_status = data_csv_cst_names_trim.select('cst_marital_status').distinct().show()"
   ]
  },
  {
   "cell_type": "code",
   "execution_count": null,
   "id": "858db830",
   "metadata": {},
   "outputs": [],
   "source": [
    "data_csv_cst_names_trim.createOrReplaceTempView('customer_info_marital')"
   ]
  },
  {
   "cell_type": "code",
   "execution_count": null,
   "id": "bb457e2e",
   "metadata": {},
   "outputs": [],
   "source": [
    "spark.sql('SELECT * FROM customer_info_marital').show(2)"
   ]
  },
  {
   "cell_type": "code",
   "execution_count": null,
   "id": "2b6c3116",
   "metadata": {},
   "outputs": [],
   "source": [
    "data_csv_cst_gndr = data_csv_cst_names_trim.select('cst_gndr').distinct().show()"
   ]
  },
  {
   "cell_type": "code",
   "execution_count": null,
   "id": "6823dff5",
   "metadata": {},
   "outputs": [],
   "source": [
    "data_csv_cst_marital_status_edit = spark.sql('''\n",
    "    SELECT crm.cst_id , crm.cst_key,crm.cst_firstname,crm.cst_lastname,\n",
    "                        CASE \n",
    "                            WHEN UPPER(TRIM(crm.cst_marital_status)) = 'M' THEN 'MARRIED'\n",
    "                            WHEN UPPER(TRIM(crm.cst_marital_status)) = 'S' THEN 'SINGLE'                         \n",
    "                            ELSE 'N/A'                         \n",
    "                        END AS cst_marital_status , \n",
    "                        CASE\n",
    "                            WHEN UPPER(TRIM(crm.cst_gndr)) = 'F' THEN 'FEMALE'\n",
    "                            WHEN UPPER(TRIM(crm.cst_gndr)) = 'M' THEN 'MALE'\n",
    "                            ELSE 'N/A'\n",
    "                        END AS cst_gndr, \n",
    "                        crm.cst_create_date\n",
    "                    FROM customer_info_marital as crm\n",
    "''')"
   ]
  },
  {
   "cell_type": "code",
   "execution_count": null,
   "id": "78ff93ad",
   "metadata": {},
   "outputs": [],
   "source": [
    "data_csv_cst_marital_status_edit.show()"
   ]
  },
  {
   "cell_type": "code",
   "execution_count": null,
   "id": "9091c909",
   "metadata": {},
   "outputs": [],
   "source": [
    "data_csv_cst_marital_status_edit.dtypes"
   ]
  },
  {
   "cell_type": "code",
   "execution_count": null,
   "id": "10c58b38",
   "metadata": {},
   "outputs": [],
   "source": [
    "data_csv_cst__date_format = data_csv_cst_marital_status_edit.withColumn('cst_create_date' , date_format(col('cst_create_date'),'dd-MM-yyyy'))"
   ]
  },
  {
   "cell_type": "code",
   "execution_count": null,
   "id": "957c9a02",
   "metadata": {},
   "outputs": [],
   "source": [
    "data_csv_cst__date_format.dtypes"
   ]
  },
  {
   "cell_type": "code",
   "execution_count": null,
   "id": "b3c0231d",
   "metadata": {},
   "outputs": [],
   "source": [
    "data_csv_cst__date_format.withColumn('cst_create_date' , to_date(col('cst_create_date'),'dd-MM-yyyy')).show()"
   ]
  },
  {
   "cell_type": "code",
   "execution_count": null,
   "id": "b692f23c",
   "metadata": {},
   "outputs": [],
   "source": [
    "data_csv_cst__date_format.show()"
   ]
  },
  {
   "cell_type": "code",
   "execution_count": null,
   "id": "7d78fc81",
   "metadata": {},
   "outputs": [],
   "source": [
    "data_csv_cst__date_format.dtypes"
   ]
  },
  {
   "cell_type": "code",
   "execution_count": null,
   "id": "413961f1",
   "metadata": {},
   "outputs": [],
   "source": [
    "spark.sql('USE Employee')"
   ]
  },
  {
   "cell_type": "code",
   "execution_count": null,
   "id": "84bba984",
   "metadata": {},
   "outputs": [],
   "source": [
    "data_csv_cst__date_format.write.mode('overwrite').saveAsTable('customer_infoo')"
   ]
  },
  {
   "cell_type": "code",
   "execution_count": null,
   "id": "47ac943b",
   "metadata": {},
   "outputs": [],
   "source": [
    "spark.sql('USE Employee')\n",
    "spark.sql('SELECT * FROM Employee.customer_infoo').show()"
   ]
  },
  {
   "cell_type": "code",
   "execution_count": null,
   "id": "3a9e87ac",
   "metadata": {},
   "outputs": [],
   "source": [
    "data_csv_cst__date_format.createOrReplaceTempView('finale_customer_edit')"
   ]
  },
  {
   "cell_type": "code",
   "execution_count": null,
   "id": "f5de74d0",
   "metadata": {},
   "outputs": [],
   "source": [
    "data_csv_cst__date_format.show(2)"
   ]
  },
  {
   "cell_type": "code",
   "execution_count": null,
   "id": "08c9d363",
   "metadata": {},
   "outputs": [],
   "source": [
    "data_customer_info = spark.sql('''\n",
    "                SELECT    \n",
    "                               ROW_NUMBER() over(order by fn.cst_create_date DESC) as customer_idd,\n",
    "                               fn.cst_id as customer_id, \n",
    "                               fn.cst_key as customer_key,\n",
    "                               fn.cst_firstname as customer_first_name,\n",
    "                               fn.cst_lastname as customert_last_name,\n",
    "                               fn.cst_marital_status as customer_marital_status,\n",
    "                               fn.cst_gndr as customer_gender,\n",
    "                               fn.cst_create_date as customer_date \n",
    "                               \n",
    "                               FROM finale_customer_edit as fn \n",
    "\n",
    "''')"
   ]
  },
  {
   "cell_type": "code",
   "execution_count": null,
   "id": "03bc2dc3",
   "metadata": {},
   "outputs": [],
   "source": [
    "data_customer_info.select('customer_gender').distinct().show()"
   ]
  },
  {
   "cell_type": "code",
   "execution_count": null,
   "id": "cc90da3d",
   "metadata": {},
   "outputs": [],
   "source": [
    "spark.sql('DROP TABLE IF EXISTS customer_infoo')"
   ]
  },
  {
   "cell_type": "code",
   "execution_count": null,
   "id": "ec5d0616",
   "metadata": {},
   "outputs": [],
   "source": [
    "# Save as managed table in spark-warehouse \n",
    "data_customer_info.write.mode('overwrite').saveAsTable('customer_infoo')"
   ]
  },
  {
   "cell_type": "code",
   "execution_count": null,
   "id": "dbb65a1e",
   "metadata": {},
   "outputs": [],
   "source": [
    "spark.sql('SELECT * FROM customer_infoo').show()"
   ]
  },
  {
   "cell_type": "code",
   "execution_count": null,
   "id": "a030025f",
   "metadata": {},
   "outputs": [],
   "source": [
    "data_customer_info.write.format('parquet')\\\n",
    ".option('compression' , 'gzip')\\\n",
    ".option('path', '/home/hazem/snowflake_dbt_spark/scripts/files_output/')\\\n",
    ".mode('append')\\\n",
    ".save()"
   ]
  },
  {
   "cell_type": "code",
   "execution_count": null,
   "id": "b5a0bf3b",
   "metadata": {},
   "outputs": [],
   "source": [
    "data_customer_info.show(2)"
   ]
  },
  {
   "cell_type": "code",
   "execution_count": null,
   "id": "aeb07581",
   "metadata": {},
   "outputs": [],
   "source": [
    "data_customer_info.write.format('jdbc') \\\n",
    "  .option('url','jdbc:mysql://mysql-db:3306/erp_spark') \\\n",
    "  .option(\"driver\", \"com.mysql.cj.jdbc.Driver\")\\\n",
    "  .option('dbtable','customer_info') \\\n",
    "  .option('user','root') \\\n",
    "  .option('password','P@ssw0rd') \\\n",
    "  .mode('overwrite')\\\n",
    "  .save()\n"
   ]
  },
  {
   "cell_type": "code",
   "execution_count": null,
   "id": "816dd46e",
   "metadata": {},
   "outputs": [],
   "source": []
  },
  {
   "cell_type": "code",
   "execution_count": null,
   "id": "ca1c25c5",
   "metadata": {},
   "outputs": [],
   "source": []
  },
  {
   "cell_type": "code",
   "execution_count": null,
   "id": "ec863950",
   "metadata": {},
   "outputs": [],
   "source": []
  },
  {
   "cell_type": "code",
   "execution_count": null,
   "id": "31271a59",
   "metadata": {},
   "outputs": [],
   "source": []
  },
  {
   "cell_type": "code",
   "execution_count": null,
   "id": "afc26ad6",
   "metadata": {},
   "outputs": [],
   "source": []
  },
  {
   "cell_type": "code",
   "execution_count": null,
   "id": "0a88f29f",
   "metadata": {},
   "outputs": [],
   "source": []
  },
  {
   "cell_type": "code",
   "execution_count": null,
   "id": "0d96f01c",
   "metadata": {},
   "outputs": [],
   "source": []
  },
  {
   "cell_type": "code",
   "execution_count": null,
   "id": "8cc1f6b4",
   "metadata": {},
   "outputs": [],
   "source": []
  },
  {
   "cell_type": "code",
   "execution_count": null,
   "id": "bed6839d",
   "metadata": {},
   "outputs": [],
   "source": []
  },
  {
   "cell_type": "code",
   "execution_count": null,
   "id": "7e29bfe1",
   "metadata": {},
   "outputs": [],
   "source": []
  },
  {
   "cell_type": "code",
   "execution_count": null,
   "id": "320c3d5f",
   "metadata": {},
   "outputs": [],
   "source": []
  },
  {
   "cell_type": "code",
   "execution_count": null,
   "id": "c66c8da1",
   "metadata": {},
   "outputs": [],
   "source": []
  },
  {
   "cell_type": "code",
   "execution_count": null,
   "id": "fcbf8e91",
   "metadata": {},
   "outputs": [],
   "source": []
  },
  {
   "cell_type": "code",
   "execution_count": null,
   "id": "523b5e71",
   "metadata": {},
   "outputs": [],
   "source": []
  },
  {
   "cell_type": "code",
   "execution_count": null,
   "id": "eb1fd0c6",
   "metadata": {},
   "outputs": [],
   "source": []
  },
  {
   "cell_type": "code",
   "execution_count": null,
   "id": "812854df",
   "metadata": {},
   "outputs": [],
   "source": []
  },
  {
   "cell_type": "code",
   "execution_count": null,
   "id": "f9b2d8e7",
   "metadata": {},
   "outputs": [],
   "source": []
  },
  {
   "cell_type": "code",
   "execution_count": null,
   "id": "a89a88f0",
   "metadata": {},
   "outputs": [],
   "source": []
  },
  {
   "cell_type": "code",
   "execution_count": null,
   "id": "7784a5ef",
   "metadata": {},
   "outputs": [],
   "source": []
  },
  {
   "cell_type": "code",
   "execution_count": null,
   "id": "97c01702",
   "metadata": {},
   "outputs": [],
   "source": []
  },
  {
   "cell_type": "code",
   "execution_count": null,
   "id": "e53ff97b",
   "metadata": {},
   "outputs": [],
   "source": []
  },
  {
   "cell_type": "code",
   "execution_count": null,
   "id": "f805ee55",
   "metadata": {},
   "outputs": [],
   "source": []
  },
  {
   "cell_type": "code",
   "execution_count": null,
   "id": "f410ab51",
   "metadata": {},
   "outputs": [],
   "source": []
  },
  {
   "cell_type": "code",
   "execution_count": null,
   "id": "6acb056e",
   "metadata": {},
   "outputs": [],
   "source": []
  },
  {
   "cell_type": "code",
   "execution_count": null,
   "id": "c195905d",
   "metadata": {},
   "outputs": [],
   "source": []
  },
  {
   "cell_type": "code",
   "execution_count": null,
   "id": "de30b0a8",
   "metadata": {},
   "outputs": [],
   "source": []
  },
  {
   "cell_type": "code",
   "execution_count": null,
   "id": "2e321bfb",
   "metadata": {},
   "outputs": [],
   "source": []
  },
  {
   "cell_type": "code",
   "execution_count": null,
   "id": "a3557aee",
   "metadata": {},
   "outputs": [],
   "source": []
  },
  {
   "cell_type": "code",
   "execution_count": null,
   "id": "a692677a",
   "metadata": {},
   "outputs": [],
   "source": []
  },
  {
   "cell_type": "code",
   "execution_count": null,
   "id": "947d96b0",
   "metadata": {},
   "outputs": [],
   "source": []
  },
  {
   "cell_type": "code",
   "execution_count": null,
   "id": "7106671f",
   "metadata": {},
   "outputs": [],
   "source": []
  },
  {
   "cell_type": "code",
   "execution_count": null,
   "id": "dff7ffef",
   "metadata": {},
   "outputs": [],
   "source": []
  },
  {
   "cell_type": "code",
   "execution_count": null,
   "id": "6a253392",
   "metadata": {},
   "outputs": [],
   "source": []
  },
  {
   "cell_type": "code",
   "execution_count": null,
   "id": "ab91ea61",
   "metadata": {},
   "outputs": [],
   "source": []
  },
  {
   "cell_type": "code",
   "execution_count": null,
   "id": "b5c8fbf3",
   "metadata": {},
   "outputs": [],
   "source": []
  },
  {
   "cell_type": "code",
   "execution_count": null,
   "id": "9eebc3a7",
   "metadata": {},
   "outputs": [],
   "source": []
  },
  {
   "cell_type": "code",
   "execution_count": null,
   "id": "23af204f",
   "metadata": {},
   "outputs": [],
   "source": []
  },
  {
   "cell_type": "code",
   "execution_count": null,
   "id": "9f4121ba",
   "metadata": {},
   "outputs": [],
   "source": []
  },
  {
   "cell_type": "code",
   "execution_count": null,
   "id": "d525fa9c",
   "metadata": {},
   "outputs": [],
   "source": []
  }
 ],
 "metadata": {
  "kernelspec": {
   "display_name": "snowflake_dbt",
   "language": "python",
   "name": "python3"
  },
  "language_info": {
   "codemirror_mode": {
    "name": "ipython",
    "version": 3
   },
   "file_extension": ".py",
   "mimetype": "text/x-python",
   "name": "python",
   "nbconvert_exporter": "python",
   "pygments_lexer": "ipython3",
   "version": "3.12.3"
  }
 },
 "nbformat": 4,
 "nbformat_minor": 5
}
