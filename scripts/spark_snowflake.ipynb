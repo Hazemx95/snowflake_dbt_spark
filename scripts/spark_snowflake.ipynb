{
 "cells": [
  {
   "cell_type": "markdown",
   "id": "9c729820",
   "metadata": {},
   "source": [
    "#### Hello im my notebook the name it pyspark_snowflake"
   ]
  },
  {
   "cell_type": "markdown",
   "id": "6ccf89a0",
   "metadata": {},
   "source": [
    "**Set the configuration to allow spark session in primary node complete**"
   ]
  },
  {
   "cell_type": "code",
   "execution_count": 2,
   "id": "13b20f2c",
   "metadata": {},
   "outputs": [
    {
     "name": "stdout",
     "output_type": "stream",
     "text": [
      "Name: pyspark\n",
      "Version: 3.5.5\n",
      "Summary: Apache Spark Python API\n",
      "Home-page: https://github.com/apache/spark/tree/master/python\n",
      "Author: Spark Developers\n",
      "Author-email: dev@spark.apache.org\n",
      "License: http://www.apache.org/licenses/LICENSE-2.0\n",
      "Location: /home/hazem/snowflake_dbt_spark/snowflake_dbt/lib/python3.12/site-packages\n",
      "Requires: py4j\n",
      "Required-by: \n"
     ]
    }
   ],
   "source": [
    "!pip show pyspark "
   ]
  },
  {
   "cell_type": "code",
   "execution_count": 3,
   "id": "a10be5e4",
   "metadata": {},
   "outputs": [
    {
     "name": "stdout",
     "output_type": "stream",
     "text": [
      "openjdk 11.0.26 2025-01-21\n",
      "OpenJDK Runtime Environment (build 11.0.26+4-post-Ubuntu-1ubuntu124.04)\n",
      "OpenJDK 64-Bit Server VM (build 11.0.26+4-post-Ubuntu-1ubuntu124.04, mixed mode, sharing)\n"
     ]
    }
   ],
   "source": [
    "!java --version"
   ]
  },
  {
   "cell_type": "code",
   "execution_count": 4,
   "id": "54ee8020",
   "metadata": {},
   "outputs": [
    {
     "name": "stdout",
     "output_type": "stream",
     "text": [
      "java: /usr/bin/java /usr/share/java /opt/jdk/bin/java /usr/share/man/man1/java.1.gz\n"
     ]
    }
   ],
   "source": [
    "!whereis java"
   ]
  },
  {
   "cell_type": "code",
   "execution_count": 5,
   "id": "bdc77359",
   "metadata": {},
   "outputs": [],
   "source": [
    "!export JAVA_HOME=/opt/jdk"
   ]
  },
  {
   "cell_type": "code",
   "execution_count": 6,
   "id": "036b883b",
   "metadata": {},
   "outputs": [],
   "source": [
    "!export PATH=$JAVA_HOME/bin:$PATH"
   ]
  },
  {
   "cell_type": "code",
   "execution_count": 7,
   "id": "b9ae4365",
   "metadata": {},
   "outputs": [
    {
     "name": "stdout",
     "output_type": "stream",
     "text": [
      "openjdk 11.0.26 2025-01-21\n",
      "OpenJDK Runtime Environment (build 11.0.26+4-post-Ubuntu-1ubuntu124.04)\n",
      "OpenJDK 64-Bit Server VM (build 11.0.26+4-post-Ubuntu-1ubuntu124.04, mixed mode, sharing)\n"
     ]
    }
   ],
   "source": [
    "!java --version"
   ]
  },
  {
   "cell_type": "code",
   "execution_count": 8,
   "id": "2c3cd687",
   "metadata": {},
   "outputs": [
    {
     "name": "stdout",
     "output_type": "stream",
     "text": [
      "/home/hazem/snowflake_dbt_spark/snowflake_dbt/bin/spark-submit\n"
     ]
    }
   ],
   "source": [
    "!which spark-submit"
   ]
  },
  {
   "cell_type": "code",
   "execution_count": 9,
   "id": "22a781a7",
   "metadata": {},
   "outputs": [],
   "source": [
    "from pyspark.sql import SparkSession"
   ]
  },
  {
   "cell_type": "code",
   "execution_count": 130,
   "id": "f0ce2abc",
   "metadata": {},
   "outputs": [],
   "source": [
    "\n",
    "spark = SparkSession.builder \\\n",
    "    .appName('sparksnowflake') \\\n",
    "    .config('spark.jars', '/home/hazem/snowflake_dbt_spark/snowflake_dbt/jars/mysql-connector-j-8.4.0.jar') \\\n",
    "    .enableHiveSupport() \\\n",
    "    .getOrCreate()\n"
   ]
  },
  {
   "cell_type": "code",
   "execution_count": 131,
   "id": "bcc1cb60",
   "metadata": {},
   "outputs": [],
   "source": [
    "sc = spark.sparkContext"
   ]
  },
  {
   "cell_type": "code",
   "execution_count": 132,
   "id": "e5ec19d8",
   "metadata": {},
   "outputs": [
    {
     "data": {
      "text/html": [
       "\n",
       "            <div>\n",
       "                <p><b>SparkSession - hive</b></p>\n",
       "                \n",
       "        <div>\n",
       "            <p><b>SparkContext</b></p>\n",
       "\n",
       "            <p><a href=\"http://localhost:4040\">Spark UI</a></p>\n",
       "\n",
       "            <dl>\n",
       "              <dt>Version</dt>\n",
       "                <dd><code>v3.5.5</code></dd>\n",
       "              <dt>Master</dt>\n",
       "                <dd><code>local[*]</code></dd>\n",
       "              <dt>AppName</dt>\n",
       "                <dd><code>sparksnowflake</code></dd>\n",
       "            </dl>\n",
       "        </div>\n",
       "        \n",
       "            </div>\n",
       "        "
      ],
      "text/plain": [
       "<pyspark.sql.session.SparkSession at 0x7f3762cfbb30>"
      ]
     },
     "execution_count": 132,
     "metadata": {},
     "output_type": "execute_result"
    }
   ],
   "source": [
    "spark"
   ]
  },
  {
   "cell_type": "code",
   "execution_count": 128,
   "id": "3e299192",
   "metadata": {},
   "outputs": [
    {
     "data": {
      "text/html": [
       "\n",
       "        <div>\n",
       "            <p><b>SparkContext</b></p>\n",
       "\n",
       "            <p><a href=\"http://localhost:4040\">Spark UI</a></p>\n",
       "\n",
       "            <dl>\n",
       "              <dt>Version</dt>\n",
       "                <dd><code>v3.5.5</code></dd>\n",
       "              <dt>Master</dt>\n",
       "                <dd><code>local[*]</code></dd>\n",
       "              <dt>AppName</dt>\n",
       "                <dd><code>sparksnowflake</code></dd>\n",
       "            </dl>\n",
       "        </div>\n",
       "        "
      ],
      "text/plain": [
       "<SparkContext master=local[*] appName=sparksnowflake>"
      ]
     },
     "execution_count": 128,
     "metadata": {},
     "output_type": "execute_result"
    }
   ],
   "source": [
    "sc"
   ]
  },
  {
   "cell_type": "code",
   "execution_count": 14,
   "id": "3a9bcdc0",
   "metadata": {},
   "outputs": [],
   "source": [
    "spark.sparkContext.setLogLevel(\"ERROR\")\n"
   ]
  },
  {
   "cell_type": "code",
   "execution_count": 15,
   "id": "e1bb2131",
   "metadata": {},
   "outputs": [],
   "source": [
    "from pyspark.sql.functions import *"
   ]
  },
  {
   "cell_type": "code",
   "execution_count": 16,
   "id": "77ddaa85",
   "metadata": {},
   "outputs": [],
   "source": [
    "from pyspark.sql.types import *"
   ]
  },
  {
   "cell_type": "code",
   "execution_count": 17,
   "id": "dde74cd3",
   "metadata": {},
   "outputs": [],
   "source": [
    "import pyspark.sql.functions as fn "
   ]
  },
  {
   "cell_type": "code",
   "execution_count": 18,
   "id": "913b4f03",
   "metadata": {},
   "outputs": [
    {
     "name": "stdout",
     "output_type": "stream",
     "text": [
      "Requirement already satisfied: pandas in /home/hazem/snowflake_dbt_spark/snowflake_dbt/lib/python3.12/site-packages (2.2.3)\n",
      "Requirement already satisfied: numpy>=1.26.0 in /home/hazem/snowflake_dbt_spark/snowflake_dbt/lib/python3.12/site-packages (from pandas) (2.2.5)\n",
      "Requirement already satisfied: python-dateutil>=2.8.2 in /home/hazem/snowflake_dbt_spark/snowflake_dbt/lib/python3.12/site-packages (from pandas) (2.9.0.post0)\n",
      "Requirement already satisfied: pytz>=2020.1 in /home/hazem/snowflake_dbt_spark/snowflake_dbt/lib/python3.12/site-packages (from pandas) (2025.2)\n",
      "Requirement already satisfied: tzdata>=2022.7 in /home/hazem/snowflake_dbt_spark/snowflake_dbt/lib/python3.12/site-packages (from pandas) (2025.2)\n",
      "Requirement already satisfied: six>=1.5 in /home/hazem/snowflake_dbt_spark/snowflake_dbt/lib/python3.12/site-packages (from python-dateutil>=2.8.2->pandas) (1.17.0)\n"
     ]
    }
   ],
   "source": [
    "!pip install pandas "
   ]
  },
  {
   "cell_type": "code",
   "execution_count": 19,
   "id": "36a6c0e8",
   "metadata": {},
   "outputs": [],
   "source": [
    "import pandas as pd"
   ]
  },
  {
   "cell_type": "code",
   "execution_count": 20,
   "id": "284647d8",
   "metadata": {},
   "outputs": [
    {
     "name": "stdout",
     "output_type": "stream",
     "text": [
      "Python 3.12.3\n"
     ]
    }
   ],
   "source": [
    "!python3 -V"
   ]
  },
  {
   "cell_type": "code",
   "execution_count": 21,
   "id": "83411c70",
   "metadata": {},
   "outputs": [
    {
     "name": "stdout",
     "output_type": "stream",
     "text": [
      "Package                    Version\n",
      "-------------------------- -----------\n",
      "agate                      1.9.1\n",
      "annotated-types            0.7.0\n",
      "asn1crypto                 1.5.1\n",
      "asttokens                  3.0.0\n",
      "attrs                      25.3.0\n",
      "babel                      2.17.0\n",
      "boto3                      1.37.38\n",
      "botocore                   1.37.38\n",
      "certifi                    2025.1.31\n",
      "cffi                       1.17.1\n",
      "charset-normalizer         3.4.1\n",
      "click                      8.1.8\n",
      "colorama                   0.4.6\n",
      "comm                       0.2.2\n",
      "cryptography               44.0.2\n",
      "daff                       1.3.46\n",
      "dbt-adapters               1.14.6\n",
      "dbt-common                 1.23.0\n",
      "dbt-core                   1.9.4\n",
      "dbt-extractor              0.6.0\n",
      "dbt-semantic-interfaces    0.7.4\n",
      "dbt-snowflake              1.9.2\n",
      "debugpy                    1.8.14\n",
      "decorator                  5.2.1\n",
      "deepdiff                   7.0.1\n",
      "executing                  2.2.0\n",
      "filelock                   3.18.0\n",
      "idna                       3.10\n",
      "importlib-metadata         6.11.0\n",
      "ipykernel                  6.29.5\n",
      "ipython                    9.1.0\n",
      "ipython_pygments_lexers    1.1.1\n",
      "isodate                    0.6.1\n",
      "jaraco.classes             3.4.0\n",
      "jaraco.context             6.0.1\n",
      "jaraco.functools           4.1.0\n",
      "jedi                       0.19.2\n",
      "jeepney                    0.9.0\n",
      "Jinja2                     3.1.6\n",
      "jmespath                   1.0.1\n",
      "jsonschema                 4.23.0\n",
      "jsonschema-specifications  2024.10.1\n",
      "jupyter_client             8.6.3\n",
      "jupyter_core               5.7.2\n",
      "keyring                    25.6.0\n",
      "leather                    0.4.0\n",
      "MarkupSafe                 3.0.2\n",
      "mashumaro                  3.14\n",
      "matplotlib-inline          0.1.7\n",
      "more-itertools             10.6.0\n",
      "msgpack                    1.1.0\n",
      "nest-asyncio               1.6.0\n",
      "networkx                   3.4.2\n",
      "numpy                      2.2.5\n",
      "ordered-set                4.1.0\n",
      "packaging                  25.0\n",
      "pandas                     2.2.3\n",
      "parsedatetime              2.6\n",
      "parso                      0.8.4\n",
      "pathspec                   0.12.1\n",
      "pexpect                    4.9.0\n",
      "pip                        24.0\n",
      "platformdirs               4.3.7\n",
      "prompt_toolkit             3.0.51\n",
      "protobuf                   5.29.4\n",
      "psutil                     7.0.0\n",
      "ptyprocess                 0.7.0\n",
      "pure_eval                  0.2.3\n",
      "py4j                       0.10.9.7\n",
      "pycparser                  2.22\n",
      "pydantic                   2.11.3\n",
      "pydantic_core              2.33.1\n",
      "Pygments                   2.19.1\n",
      "PyJWT                      2.10.1\n",
      "pyOpenSSL                  25.0.0\n",
      "pyspark                    3.5.5\n",
      "python-dateutil            2.9.0.post0\n",
      "python-slugify             8.0.4\n",
      "pytimeparse                1.1.8\n",
      "pytz                       2025.2\n",
      "PyYAML                     6.0.2\n",
      "pyzmq                      26.4.0\n",
      "referencing                0.36.2\n",
      "requests                   2.32.3\n",
      "rpds-py                    0.24.0\n",
      "s3transfer                 0.11.5\n",
      "SecretStorage              3.3.3\n",
      "six                        1.17.0\n",
      "snowflake-connector-python 3.14.1\n",
      "snowplow-tracker           1.1.0\n",
      "sortedcontainers           2.4.0\n",
      "sqlparse                   0.5.3\n",
      "stack-data                 0.6.3\n",
      "text-unidecode             1.3\n",
      "tomlkit                    0.13.2\n",
      "tornado                    6.4.2\n",
      "traitlets                  5.14.3\n",
      "typing_extensions          4.13.2\n",
      "typing-inspection          0.4.0\n",
      "tzdata                     2025.2\n",
      "urllib3                    2.4.0\n",
      "wcwidth                    0.2.13\n",
      "zipp                       3.21.0\n"
     ]
    }
   ],
   "source": [
    "!pip list"
   ]
  },
  {
   "cell_type": "code",
   "execution_count": 22,
   "id": "610a0193",
   "metadata": {},
   "outputs": [],
   "source": [
    "data_list = [(1 , 'Ahmed','Omar' , 'Maadi' ,'male',['tennsi' , 'reading' ,'cooking']) , \n",
    "             (2 , 'Khaled','Montaser' , 'Helwan' ,'male',['football' , 'smoking' ,'cooking']),\n",
    "             (3 , 'Hager','Ali' , 'Maadi' ,'female',['vollyball' , 'painting' ,'cooking']),\n",
    "             (4 , 'Asmaa','Mansour' , 'Nacercity' ,None,['TV' , 'reading' ,'cooking'])              \n",
    "            ]"
   ]
  },
  {
   "cell_type": "code",
   "execution_count": 23,
   "id": "3df2d2d8",
   "metadata": {},
   "outputs": [
    {
     "name": "stdout",
     "output_type": "stream",
     "text": [
      "<class 'list'>\n"
     ]
    }
   ],
   "source": [
    "print(type(data_list))"
   ]
  },
  {
   "cell_type": "code",
   "execution_count": 24,
   "id": "2e25b3a5",
   "metadata": {},
   "outputs": [
    {
     "name": "stdout",
     "output_type": "stream",
     "text": [
      "[(1, 'Ahmed', 'Omar', 'Maadi', 'male', ['tennsi', 'reading', 'cooking']), (2, 'Khaled', 'Montaser', 'Helwan', 'male', ['football', 'smoking', 'cooking']), (3, 'Hager', 'Ali', 'Maadi', 'female', ['vollyball', 'painting', 'cooking']), (4, 'Asmaa', 'Mansour', 'Nacercity', None, ['TV', 'reading', 'cooking'])] "
     ]
    }
   ],
   "source": [
    "print(f\"{data_list}\" , end= ' ')"
   ]
  },
  {
   "cell_type": "code",
   "execution_count": 25,
   "id": "c3eb8168",
   "metadata": {},
   "outputs": [
    {
     "name": "stdout",
     "output_type": "stream",
     "text": [
      "2\n",
      "Khaled\n",
      "Montaser\n",
      "Helwan\n",
      "male\n",
      "['football', 'smoking', 'cooking']\n"
     ]
    }
   ],
   "source": [
    "i=0\n",
    "for index , item in list(enumerate(data_list[1])):\n",
    "    print(item)\n",
    "   \n",
    "    \n"
   ]
  },
  {
   "cell_type": "code",
   "execution_count": 26,
   "id": "25db658d",
   "metadata": {},
   "outputs": [
    {
     "name": "stdout",
     "output_type": "stream",
     "text": [
      "1\n",
      "Ahmed\n",
      "Omar\n",
      "Maadi\n",
      "male\n",
      "['tennsi', 'reading', 'cooking']\n"
     ]
    }
   ],
   "source": [
    "for item in data_list[0]:\n",
    "    print(item )"
   ]
  },
  {
   "cell_type": "code",
   "execution_count": 27,
   "id": "c0830494",
   "metadata": {},
   "outputs": [],
   "source": [
    "data_dict = {'ID':1 , 'Name':'Hazem' , 'Age':29} "
   ]
  },
  {
   "cell_type": "code",
   "execution_count": 28,
   "id": "684eceb4",
   "metadata": {},
   "outputs": [
    {
     "name": "stdout",
     "output_type": "stream",
     "text": [
      "{'ID': 1, 'Name': 'Hazem', 'Age': 29, 'Address': 'None'}\n"
     ]
    }
   ],
   "source": [
    "words = 'Address'\n",
    "if words in data_dict:\n",
    "    data_dict[words] = 'Maadi'\n",
    "else:\n",
    "    data_dict[words] = 'None'\n",
    "print(f'{data_dict}')"
   ]
  },
  {
   "cell_type": "code",
   "execution_count": 29,
   "id": "4a324fd0",
   "metadata": {},
   "outputs": [
    {
     "data": {
      "text/plain": [
       "dict_items([('ID', 1), ('Name', 'Hazem'), ('Age', 29), ('Address', 'None')])"
      ]
     },
     "execution_count": 29,
     "metadata": {},
     "output_type": "execute_result"
    }
   ],
   "source": [
    "data_dict.items()"
   ]
  },
  {
   "cell_type": "code",
   "execution_count": 30,
   "id": "d49733b2",
   "metadata": {},
   "outputs": [
    {
     "name": "stdout",
     "output_type": "stream",
     "text": [
      "Index: Address  | None\n",
      "Index: Age      | 29\n",
      "Index: ID       | 1\n",
      "Index: Name     | Hazem\n"
     ]
    }
   ],
   "source": [
    "#('ID', 1)\n",
    "for (index , word) in sorted(data_dict.items()):\n",
    "    print(f'Index: {index:<8} | {word}')"
   ]
  },
  {
   "cell_type": "code",
   "execution_count": 31,
   "id": "cd4c8019",
   "metadata": {},
   "outputs": [],
   "source": [
    "if data_dict[words]== 'Maadi':\n",
    "    print(len(data_dict))"
   ]
  },
  {
   "cell_type": "code",
   "execution_count": 32,
   "id": "21abbfe4",
   "metadata": {},
   "outputs": [],
   "source": [
    "from pyspark.sql.functions import *"
   ]
  },
  {
   "cell_type": "code",
   "execution_count": 33,
   "id": "1159a565",
   "metadata": {},
   "outputs": [],
   "source": [
    "from pyspark.sql.types import *"
   ]
  },
  {
   "cell_type": "code",
   "execution_count": 34,
   "id": "12ed4067",
   "metadata": {},
   "outputs": [],
   "source": [
    "import pyspark.sql.functions as fn "
   ]
  },
  {
   "cell_type": "code",
   "execution_count": 35,
   "id": "c437deee",
   "metadata": {},
   "outputs": [],
   "source": [
    "# create programmatic schemaa \n",
    "schemaa = StructType([\n",
    "    StructField('ID' , IntegerType() , True) ,\n",
    "    StructField('First_Name' , StringType() , True) ,\n",
    "    StructField('Last_Name' , StringType() , True) ,\n",
    "    StructField('Address' , StringType() , True) ,\n",
    "    StructField('Gender' , StringType() , True) ,\n",
    "    StructField('Hobbits' , ArrayType(StringType()) , True) ,\n",
    "])"
   ]
  },
  {
   "cell_type": "code",
   "execution_count": 36,
   "id": "725bf6d8",
   "metadata": {},
   "outputs": [],
   "source": [
    "data_df = spark.createDataFrame(data_list , schema= schemaa)"
   ]
  },
  {
   "cell_type": "code",
   "execution_count": 37,
   "id": "b91a9a8c",
   "metadata": {},
   "outputs": [
    {
     "name": "stdout",
     "output_type": "stream",
     "text": [
      "root\n",
      " |-- ID: integer (nullable = true)\n",
      " |-- First_Name: string (nullable = true)\n",
      " |-- Last_Name: string (nullable = true)\n",
      " |-- Address: string (nullable = true)\n",
      " |-- Gender: string (nullable = true)\n",
      " |-- Hobbits: array (nullable = true)\n",
      " |    |-- element: string (containsNull = true)\n",
      "\n"
     ]
    }
   ],
   "source": [
    "data_df.printSchema()\n"
   ]
  },
  {
   "cell_type": "code",
   "execution_count": 38,
   "id": "19e8a4d9",
   "metadata": {},
   "outputs": [
    {
     "data": {
      "text/plain": [
       "[('ID', 'int'),\n",
       " ('First_Name', 'string'),\n",
       " ('Last_Name', 'string'),\n",
       " ('Address', 'string'),\n",
       " ('Gender', 'string'),\n",
       " ('Hobbits', 'array<string>')]"
      ]
     },
     "execution_count": 38,
     "metadata": {},
     "output_type": "execute_result"
    }
   ],
   "source": [
    "data_df.dtypes"
   ]
  },
  {
   "cell_type": "code",
   "execution_count": 39,
   "id": "fb052111",
   "metadata": {},
   "outputs": [
    {
     "name": "stderr",
     "output_type": "stream",
     "text": [
      "                                                                                \r"
     ]
    },
    {
     "name": "stdout",
     "output_type": "stream",
     "text": [
      "+---+----------+---------+---------+------+------------------------------+\n",
      "|ID |First_Name|Last_Name|Address  |Gender|Hobbits                       |\n",
      "+---+----------+---------+---------+------+------------------------------+\n",
      "|1  |Ahmed     |Omar     |Maadi    |male  |[tennsi, reading, cooking]    |\n",
      "|2  |Khaled    |Montaser |Helwan   |male  |[football, smoking, cooking]  |\n",
      "|3  |Hager     |Ali      |Maadi    |female|[vollyball, painting, cooking]|\n",
      "|4  |Asmaa     |Mansour  |Nacercity|NULL  |[TV, reading, cooking]        |\n",
      "+---+----------+---------+---------+------+------------------------------+\n",
      "\n"
     ]
    }
   ],
   "source": [
    "data_df.show(n=4 , truncate=False)"
   ]
  },
  {
   "cell_type": "code",
   "execution_count": 40,
   "id": "e997816c",
   "metadata": {},
   "outputs": [],
   "source": [
    "data_df_date_add = data_df.withColumn('hire_date' , current_timestamp())"
   ]
  },
  {
   "cell_type": "code",
   "execution_count": 41,
   "id": "fe7e0a58",
   "metadata": {},
   "outputs": [
    {
     "name": "stdout",
     "output_type": "stream",
     "text": [
      "+---+----------+---------+---------+------+------------------------------+--------------------------+\n",
      "|ID |First_Name|Last_Name|Address  |Gender|Hobbits                       |hire_date                 |\n",
      "+---+----------+---------+---------+------+------------------------------+--------------------------+\n",
      "|1  |Ahmed     |Omar     |Maadi    |male  |[tennsi, reading, cooking]    |2025-04-26 23:33:08.136257|\n",
      "|2  |Khaled    |Montaser |Helwan   |male  |[football, smoking, cooking]  |2025-04-26 23:33:08.136257|\n",
      "|3  |Hager     |Ali      |Maadi    |female|[vollyball, painting, cooking]|2025-04-26 23:33:08.136257|\n",
      "|4  |Asmaa     |Mansour  |Nacercity|NULL  |[TV, reading, cooking]        |2025-04-26 23:33:08.136257|\n",
      "+---+----------+---------+---------+------+------------------------------+--------------------------+\n",
      "\n"
     ]
    }
   ],
   "source": [
    "data_df_date_add.show(truncate=False)"
   ]
  },
  {
   "cell_type": "code",
   "execution_count": 42,
   "id": "7e4a73a1",
   "metadata": {},
   "outputs": [
    {
     "data": {
      "text/plain": [
       "[('ID', 'int'),\n",
       " ('First_Name', 'string'),\n",
       " ('Last_Name', 'string'),\n",
       " ('Address', 'string'),\n",
       " ('Gender', 'string'),\n",
       " ('Hobbits', 'array<string>'),\n",
       " ('hire_date', 'timestamp')]"
      ]
     },
     "execution_count": 42,
     "metadata": {},
     "output_type": "execute_result"
    }
   ],
   "source": [
    "data_df_date_add.dtypes"
   ]
  },
  {
   "cell_type": "code",
   "execution_count": 43,
   "id": "4a247b45",
   "metadata": {},
   "outputs": [],
   "source": [
    "data_df_date_add_date = data_df_date_add.withColumn('hire_date' , col('hire_date').cast(DateType()))"
   ]
  },
  {
   "cell_type": "code",
   "execution_count": 44,
   "id": "8fa9a3d3",
   "metadata": {},
   "outputs": [
    {
     "name": "stdout",
     "output_type": "stream",
     "text": [
      "+---+----------+---------+---------+------+--------------------+----------+\n",
      "| ID|First_Name|Last_Name|  Address|Gender|             Hobbits| hire_date|\n",
      "+---+----------+---------+---------+------+--------------------+----------+\n",
      "|  1|     Ahmed|     Omar|    Maadi|  male|[tennsi, reading,...|2025-04-26|\n",
      "|  2|    Khaled| Montaser|   Helwan|  male|[football, smokin...|2025-04-26|\n",
      "|  3|     Hager|      Ali|    Maadi|female|[vollyball, paint...|2025-04-26|\n",
      "|  4|     Asmaa|  Mansour|Nacercity|  NULL|[TV, reading, coo...|2025-04-26|\n",
      "+---+----------+---------+---------+------+--------------------+----------+\n",
      "\n"
     ]
    }
   ],
   "source": [
    "data_df_date_add_to_date  = data_df_date_add.withColumn('hire_date' , to_date(col('hire_date'))).show()"
   ]
  },
  {
   "cell_type": "code",
   "execution_count": 45,
   "id": "9017cc50",
   "metadata": {},
   "outputs": [
    {
     "name": "stdout",
     "output_type": "stream",
     "text": [
      "+---+----------+---------+---------+------+------------------------------+--------------------------+\n",
      "|ID |First_Name|Last_Name|Address  |Gender|Hobbits                       |hire_date                 |\n",
      "+---+----------+---------+---------+------+------------------------------+--------------------------+\n",
      "|1  |Ahmed     |Omar     |Maadi    |male  |[tennsi, reading, cooking]    |2025-04-26 23:33:09.310686|\n",
      "|2  |Khaled    |Montaser |Helwan   |male  |[football, smoking, cooking]  |2025-04-26 23:33:09.310686|\n",
      "|3  |Hager     |Ali      |Maadi    |female|[vollyball, painting, cooking]|2025-04-26 23:33:09.310686|\n",
      "|4  |Asmaa     |Mansour  |Nacercity|NULL  |[TV, reading, cooking]        |2025-04-26 23:33:09.310686|\n",
      "+---+----------+---------+---------+------+------------------------------+--------------------------+\n",
      "\n"
     ]
    }
   ],
   "source": [
    "data_df_date_add_to_timstamp = data_df_date_add.withColumn('hire_date' , to_timestamp(col('hire_date') , 'yyyy-dd-MM')).show(truncate=False)"
   ]
  },
  {
   "cell_type": "code",
   "execution_count": 46,
   "id": "8f8f5f88",
   "metadata": {},
   "outputs": [
    {
     "data": {
      "text/plain": [
       "[('ID', 'int'),\n",
       " ('First_Name', 'string'),\n",
       " ('Last_Name', 'string'),\n",
       " ('Address', 'string'),\n",
       " ('Gender', 'string'),\n",
       " ('Hobbits', 'array<string>'),\n",
       " ('hire_date', 'date')]"
      ]
     },
     "execution_count": 46,
     "metadata": {},
     "output_type": "execute_result"
    }
   ],
   "source": [
    "data_df_date_add_date.dtypes"
   ]
  },
  {
   "cell_type": "code",
   "execution_count": 47,
   "id": "7446589d",
   "metadata": {},
   "outputs": [
    {
     "data": {
      "text/plain": [
       "DataFrame[ID: int, First_Name: string, Last_Name: string, Address: string, Gender: string, Hobbits: array<string>, hire_date: date]"
      ]
     },
     "execution_count": 47,
     "metadata": {},
     "output_type": "execute_result"
    }
   ],
   "source": [
    "data_df_date_add_date.cache()"
   ]
  },
  {
   "cell_type": "code",
   "execution_count": 48,
   "id": "610afe0b",
   "metadata": {},
   "outputs": [
    {
     "name": "stdout",
     "output_type": "stream",
     "text": [
      "+---+----------+---------+---------+------+------------------------------+----------+\n",
      "|ID |First_Name|Last_Name|Address  |Gender|Hobbits                       |hire_date |\n",
      "+---+----------+---------+---------+------+------------------------------+----------+\n",
      "|1  |Ahmed     |Omar     |Maadi    |male  |[tennsi, reading, cooking]    |2025-04-26|\n",
      "|2  |Khaled    |Montaser |Helwan   |male  |[football, smoking, cooking]  |2025-04-26|\n",
      "|3  |Hager     |Ali      |Maadi    |female|[vollyball, painting, cooking]|2025-04-26|\n",
      "|4  |Asmaa     |Mansour  |Nacercity|NULL  |[TV, reading, cooking]        |2025-04-26|\n",
      "+---+----------+---------+---------+------+------------------------------+----------+\n",
      "\n"
     ]
    }
   ],
   "source": [
    "data_df_date_add_date.show(truncate=False)"
   ]
  },
  {
   "cell_type": "code",
   "execution_count": 49,
   "id": "a2e7af41",
   "metadata": {},
   "outputs": [],
   "source": [
    "data_df_date_add_date_select = data_df_date_add_date.select('ID' ,data_df_date_add_date['First_Name'].alias('first_name') , year(col('hire_date')).alias('year_date'))"
   ]
  },
  {
   "cell_type": "code",
   "execution_count": 50,
   "id": "78177ec8",
   "metadata": {},
   "outputs": [
    {
     "name": "stdout",
     "output_type": "stream",
     "text": [
      "+---+----------+---------+\n",
      "| ID|first_name|year_date|\n",
      "+---+----------+---------+\n",
      "|  1|     Ahmed|     2025|\n",
      "|  2|    Khaled|     2025|\n",
      "|  3|     Hager|     2025|\n",
      "|  4|     Asmaa|     2025|\n",
      "+---+----------+---------+\n",
      "\n"
     ]
    }
   ],
   "source": [
    "data_df_date_add_date_select.show()"
   ]
  },
  {
   "cell_type": "code",
   "execution_count": 51,
   "id": "7ff4a8ad",
   "metadata": {},
   "outputs": [],
   "source": [
    "data_df_date_add_date_null = data_df_date_add_date.na.fill('N/A' ,subset=['Gender'])"
   ]
  },
  {
   "cell_type": "code",
   "execution_count": 52,
   "id": "70c49425",
   "metadata": {},
   "outputs": [
    {
     "name": "stdout",
     "output_type": "stream",
     "text": [
      "+---+----------+---------+---------+------+--------------------+----------+\n",
      "| ID|First_Name|Last_Name|  Address|Gender|             Hobbits| hire_date|\n",
      "+---+----------+---------+---------+------+--------------------+----------+\n",
      "|  1|     Ahmed|     Omar|    Maadi|  male|[tennsi, reading,...|2025-04-26|\n",
      "|  2|    Khaled| Montaser|   Helwan|  male|[football, smokin...|2025-04-26|\n",
      "|  3|     Hager|      Ali|    Maadi|female|[vollyball, paint...|2025-04-26|\n",
      "|  4|     Asmaa|  Mansour|Nacercity|   N/A|[TV, reading, coo...|2025-04-26|\n",
      "+---+----------+---------+---------+------+--------------------+----------+\n",
      "\n"
     ]
    }
   ],
   "source": [
    "data_df_date_add_date_null.show()"
   ]
  },
  {
   "cell_type": "code",
   "execution_count": 53,
   "id": "881b4872",
   "metadata": {},
   "outputs": [
    {
     "name": "stdout",
     "output_type": "stream",
     "text": [
      "+---+----------+---------+---------+------+--------------------+----------+\n",
      "| ID|First_Name|Last_Name|  Address|Gender|             Hobbits| hire_date|\n",
      "+---+----------+---------+---------+------+--------------------+----------+\n",
      "|  1|     Ahmed|     Omar|    Maadi|  male|[tennsi, reading,...|2025-04-26|\n",
      "|  2|    Khaled| Montaser|   Helwan|  male|[football, smokin...|2025-04-26|\n",
      "|  3|     Hager|      Ali|    Maadi|female|[vollyball, paint...|2025-04-26|\n",
      "|  4|     Asmaa|  Mansour|Nacercity|  NULL|[TV, reading, coo...|2025-04-26|\n",
      "+---+----------+---------+---------+------+--------------------+----------+\n",
      "\n"
     ]
    }
   ],
   "source": [
    "data_df_date_add_date.show()"
   ]
  },
  {
   "cell_type": "code",
   "execution_count": 54,
   "id": "20f4d1bb",
   "metadata": {},
   "outputs": [],
   "source": [
    "data_df_date_add_date_null_co = data_df_date_add_date.withColumn('Gender',coalesce(col('Gender'),lit('N/A')))"
   ]
  },
  {
   "cell_type": "code",
   "execution_count": 55,
   "id": "530a74c7",
   "metadata": {},
   "outputs": [
    {
     "name": "stdout",
     "output_type": "stream",
     "text": [
      "+---+----------+---------+---------+------+--------------------+----------+\n",
      "| ID|First_Name|Last_Name|  Address|Gender|             Hobbits| hire_date|\n",
      "+---+----------+---------+---------+------+--------------------+----------+\n",
      "|  1|     Ahmed|     Omar|    Maadi|  male|[tennsi, reading,...|2025-04-26|\n",
      "|  2|    Khaled| Montaser|   Helwan|  male|[football, smokin...|2025-04-26|\n",
      "|  3|     Hager|      Ali|    Maadi|female|[vollyball, paint...|2025-04-26|\n",
      "|  4|     Asmaa|  Mansour|Nacercity|   N/A|[TV, reading, coo...|2025-04-26|\n",
      "+---+----------+---------+---------+------+--------------------+----------+\n",
      "\n"
     ]
    }
   ],
   "source": [
    "data_df_date_add_date_null_co.show()"
   ]
  },
  {
   "cell_type": "code",
   "execution_count": 56,
   "id": "d8a2c4d9",
   "metadata": {},
   "outputs": [],
   "source": [
    "data_df_date_add_date_null_co_hire = data_df_date_add_date_null_co.withColumn('hire_date', date_format(col('hire_date'),'dd-MM-yyyy'))"
   ]
  },
  {
   "cell_type": "code",
   "execution_count": 57,
   "id": "42c4645f",
   "metadata": {},
   "outputs": [
    {
     "name": "stdout",
     "output_type": "stream",
     "text": [
      "+---+----------+---------+---------+------+--------------------+----------+\n",
      "| ID|First_Name|Last_Name|  Address|Gender|             Hobbits| hire_date|\n",
      "+---+----------+---------+---------+------+--------------------+----------+\n",
      "|  1|     Ahmed|     Omar|    Maadi|  male|[tennsi, reading,...|26-04-2025|\n",
      "|  2|    Khaled| Montaser|   Helwan|  male|[football, smokin...|26-04-2025|\n",
      "|  3|     Hager|      Ali|    Maadi|female|[vollyball, paint...|26-04-2025|\n",
      "|  4|     Asmaa|  Mansour|Nacercity|   N/A|[TV, reading, coo...|26-04-2025|\n",
      "+---+----------+---------+---------+------+--------------------+----------+\n",
      "\n"
     ]
    }
   ],
   "source": [
    "data_df_date_add_date_null_co_hire.show()"
   ]
  },
  {
   "cell_type": "code",
   "execution_count": 58,
   "id": "2dd0f919",
   "metadata": {},
   "outputs": [
    {
     "data": {
      "text/plain": [
       "4"
      ]
     },
     "execution_count": 58,
     "metadata": {},
     "output_type": "execute_result"
    }
   ],
   "source": [
    "# Sliver Layer Check about the columns \n",
    "data_df_date_add_date_null_co_hire.select('*')\\\n",
    ".count()\n"
   ]
  },
  {
   "cell_type": "code",
   "execution_count": 59,
   "id": "25026429",
   "metadata": {},
   "outputs": [],
   "source": [
    "# codeing for bronz layer make a dta ingest\n",
    "data_csv = spark.read.format('csv')\\\n",
    ".option('inferSchema' , 'True')\\\n",
    ".option('header' ,'True')\\\n",
    ".option('samplingRatio',0.001)\\\n",
    ".option('path', '/home/hazem/snowflake_dbt_spark/datasets/source_crm/cust_info.csv')\\\n",
    ".load()"
   ]
  },
  {
   "cell_type": "code",
   "execution_count": 60,
   "id": "af283e8f",
   "metadata": {},
   "outputs": [
    {
     "data": {
      "text/plain": [
       "[('cst_id', 'int'),\n",
       " ('cst_key', 'string'),\n",
       " ('cst_firstname', 'string'),\n",
       " ('cst_lastname', 'string'),\n",
       " ('cst_marital_status', 'string'),\n",
       " ('cst_gndr', 'string'),\n",
       " ('cst_create_date', 'date')]"
      ]
     },
     "execution_count": 60,
     "metadata": {},
     "output_type": "execute_result"
    }
   ],
   "source": [
    "data_csv.dtypes"
   ]
  },
  {
   "cell_type": "code",
   "execution_count": 61,
   "id": "10e21144",
   "metadata": {},
   "outputs": [
    {
     "name": "stdout",
     "output_type": "stream",
     "text": [
      "root\n",
      " |-- cst_id: integer (nullable = true)\n",
      " |-- cst_key: string (nullable = true)\n",
      " |-- cst_firstname: string (nullable = true)\n",
      " |-- cst_lastname: string (nullable = true)\n",
      " |-- cst_marital_status: string (nullable = true)\n",
      " |-- cst_gndr: string (nullable = true)\n",
      " |-- cst_create_date: date (nullable = true)\n",
      "\n"
     ]
    }
   ],
   "source": [
    "data_csv.printSchema()"
   ]
  },
  {
   "cell_type": "code",
   "execution_count": 62,
   "id": "07aecc6b",
   "metadata": {},
   "outputs": [
    {
     "name": "stdout",
     "output_type": "stream",
     "text": [
      "+------+----------+-------------+------------+------------------+--------+---------------+\n",
      "|cst_id|   cst_key|cst_firstname|cst_lastname|cst_marital_status|cst_gndr|cst_create_date|\n",
      "+------+----------+-------------+------------+------------------+--------+---------------+\n",
      "| 11000|AW00011000|          Jon|       Yang |                 M|       M|     2025-10-06|\n",
      "| 11001|AW00011001|       Eugene|     Huang  |                 S|       M|     2025-10-06|\n",
      "| 11002|AW00011002|        Ruben|      Torres|                 M|       M|     2025-10-06|\n",
      "| 11003|AW00011003|      Christy|         Zhu|                 S|       F|     2025-10-06|\n",
      "| 11004|AW00011004|    Elizabeth|     Johnson|                 S|       F|     2025-10-06|\n",
      "| 11005|AW00011005|        Julio|        Ruiz|                 S|       M|     2025-10-06|\n",
      "| 11006|AW00011006|        Janet|     Alvarez|                 S|       F|     2025-10-06|\n",
      "| 11007|AW00011007|        Marco|       Mehta|                 M|       M|     2025-10-06|\n",
      "| 11008|AW00011008|          Rob|     Verhoff|                 S|       F|     2025-10-06|\n",
      "| 11009|AW00011009|      Shannon|     Carlson|                 S|       M|     2025-10-06|\n",
      "+------+----------+-------------+------------+------------------+--------+---------------+\n",
      "only showing top 10 rows\n",
      "\n"
     ]
    }
   ],
   "source": [
    "data_csv.show(10)"
   ]
  },
  {
   "cell_type": "code",
   "execution_count": 63,
   "id": "9499e8ff",
   "metadata": {},
   "outputs": [],
   "source": [
    "data_csv_count = data_csv.select('*')\\\n",
    ".count()"
   ]
  },
  {
   "cell_type": "code",
   "execution_count": 64,
   "id": "87f669ed",
   "metadata": {},
   "outputs": [
    {
     "data": {
      "text/plain": [
       "18494"
      ]
     },
     "execution_count": 64,
     "metadata": {},
     "output_type": "execute_result"
    }
   ],
   "source": [
    "# validation for bronz layer (Tracebility and dubging)\n",
    "data_csv_count"
   ]
  },
  {
   "cell_type": "code",
   "execution_count": 65,
   "id": "b09a5243",
   "metadata": {},
   "outputs": [
    {
     "data": {
      "text/plain": [
       "[('cst_id', 'int'),\n",
       " ('cst_key', 'string'),\n",
       " ('cst_firstname', 'string'),\n",
       " ('cst_lastname', 'string'),\n",
       " ('cst_marital_status', 'string'),\n",
       " ('cst_gndr', 'string'),\n",
       " ('cst_create_date', 'date')]"
      ]
     },
     "execution_count": 65,
     "metadata": {},
     "output_type": "execute_result"
    }
   ],
   "source": [
    "data_csv.dtypes"
   ]
  },
  {
   "cell_type": "code",
   "execution_count": 66,
   "id": "72a5ef4a",
   "metadata": {},
   "outputs": [
    {
     "name": "stdout",
     "output_type": "stream",
     "text": [
      "+------+----------+-------------+------------+------------------+--------+---------------+\n",
      "|cst_id|   cst_key|cst_firstname|cst_lastname|cst_marital_status|cst_gndr|cst_create_date|\n",
      "+------+----------+-------------+------------+------------------+--------+---------------+\n",
      "| 11000|AW00011000|          Jon|       Yang |                 M|       M|     2025-10-06|\n",
      "| 11001|AW00011001|       Eugene|     Huang  |                 S|       M|     2025-10-06|\n",
      "| 11002|AW00011002|        Ruben|      Torres|                 M|       M|     2025-10-06|\n",
      "| 11003|AW00011003|      Christy|         Zhu|                 S|       F|     2025-10-06|\n",
      "| 11004|AW00011004|    Elizabeth|     Johnson|                 S|       F|     2025-10-06|\n",
      "+------+----------+-------------+------------+------------------+--------+---------------+\n",
      "only showing top 5 rows\n",
      "\n"
     ]
    }
   ],
   "source": [
    "# Sliver layer check about the data quality \n",
    "data_csv.show(5)"
   ]
  },
  {
   "cell_type": "code",
   "execution_count": 67,
   "id": "dd1b55c9",
   "metadata": {},
   "outputs": [
    {
     "name": "stdout",
     "output_type": "stream",
     "text": [
      "+------+------------+\n",
      "|cst_id|count_number|\n",
      "+------+------------+\n",
      "| 29483|           2|\n",
      "| 29473|           2|\n",
      "| 29449|           2|\n",
      "| 29466|           3|\n",
      "| 29433|           2|\n",
      "+------+------------+\n",
      "\n"
     ]
    }
   ],
   "source": [
    "# first column cst_id check the data about it (data qulity)\n",
    "# when the checking end have issus what,s mean have duplication and redadency\n",
    "data_csv_cst_id = data_csv.select('*')\\\n",
    ".groupBy('cst_id')\\\n",
    ".agg(fn.count('*').alias('count_number'))\\\n",
    ".where((col('cst_id').isNotNull()) & (col('count_number') > 1)).show()\n"
   ]
  },
  {
   "cell_type": "code",
   "execution_count": 68,
   "id": "4ae3a9f9",
   "metadata": {},
   "outputs": [],
   "source": [
    "# Now solve this issus to get good quallity\n",
    "# create tmp view this view virtual but needed to write sql operation \n",
    "data_csv.createOrReplaceTempView('customer_info')"
   ]
  },
  {
   "cell_type": "code",
   "execution_count": 69,
   "id": "b5552432",
   "metadata": {},
   "outputs": [
    {
     "data": {
      "text/plain": [
       "DataFrame[]"
      ]
     },
     "execution_count": 69,
     "metadata": {},
     "output_type": "execute_result"
    }
   ],
   "source": [
    "spark.sql('CREATE DATABASE IF NOT EXISTS Employee')"
   ]
  },
  {
   "cell_type": "code",
   "execution_count": 70,
   "id": "ee7cb397",
   "metadata": {},
   "outputs": [
    {
     "data": {
      "text/plain": [
       "DataFrame[]"
      ]
     },
     "execution_count": 70,
     "metadata": {},
     "output_type": "execute_result"
    }
   ],
   "source": [
    "spark.sql('USE Employee')"
   ]
  },
  {
   "cell_type": "code",
   "execution_count": 71,
   "id": "202dd112",
   "metadata": {},
   "outputs": [
    {
     "name": "stdout",
     "output_type": "stream",
     "text": [
      "+------+----------+-------------+------------+------------------+--------+---------------+---+\n",
      "|cst_id|   cst_key|cst_firstname|cst_lastname|cst_marital_status|cst_gndr|cst_create_date| rn|\n",
      "+------+----------+-------------+------------+------------------+--------+---------------+---+\n",
      "|  NULL|     SF566|         NULL|        NULL|              NULL|    NULL|           NULL|  1|\n",
      "|  NULL|      PO25|         NULL|        NULL|              NULL|    NULL|           NULL|  2|\n",
      "|  NULL|  13451235|         NULL|        NULL|              NULL|    NULL|           NULL|  3|\n",
      "|  NULL|    A01Ass|         NULL|        NULL|              NULL|    NULL|           NULL|  4|\n",
      "| 11000|AW00011000|          Jon|       Yang |                 M|       M|     2025-10-06|  1|\n",
      "| 11001|AW00011001|       Eugene|     Huang  |                 S|       M|     2025-10-06|  1|\n",
      "| 11002|AW00011002|        Ruben|      Torres|                 M|       M|     2025-10-06|  1|\n",
      "| 11003|AW00011003|      Christy|         Zhu|                 S|       F|     2025-10-06|  1|\n",
      "| 11004|AW00011004|    Elizabeth|     Johnson|                 S|       F|     2025-10-06|  1|\n",
      "| 11005|AW00011005|        Julio|        Ruiz|                 S|       M|     2025-10-06|  1|\n",
      "| 11006|AW00011006|        Janet|     Alvarez|                 S|       F|     2025-10-06|  1|\n",
      "| 11007|AW00011007|        Marco|       Mehta|                 M|       M|     2025-10-06|  1|\n",
      "| 11008|AW00011008|          Rob|     Verhoff|                 S|       F|     2025-10-06|  1|\n",
      "| 11009|AW00011009|      Shannon|     Carlson|                 S|       M|     2025-10-06|  1|\n",
      "| 11010|AW00011010|    Jacquelyn|      Suarez|                 S|       F|     2025-10-06|  1|\n",
      "| 11011|AW00011011|       Curtis|          Lu|                 M|       M|     2025-10-06|  1|\n",
      "| 11012|AW00011012|       Lauren|      Walker|                 M|       F|     2025-10-06|  1|\n",
      "| 11013|AW00011013|         Ian |    Jenkins |                 M|       M|     2025-10-06|  1|\n",
      "| 11014|AW00011014|       Sydney|     Bennett|                 S|       F|     2025-10-06|  1|\n",
      "| 11015|AW00011015|        Chloe|       Young|                 S|       F|     2025-10-06|  1|\n",
      "+------+----------+-------------+------------+------------------+--------+---------------+---+\n",
      "only showing top 20 rows\n",
      "\n"
     ]
    }
   ],
   "source": [
    "data_csv_cst_id_edit = spark.sql('''\n",
    "    SELECT * , ROW_NUMBER() over(PARTITION BY cst_id ORDER BY cst_id) as rn  FROM customer_info as crm\n",
    "''').show()"
   ]
  },
  {
   "cell_type": "code",
   "execution_count": 72,
   "id": "33dcc4ba",
   "metadata": {},
   "outputs": [],
   "source": [
    "data_csv_cst_id_edit = spark.sql('''\n",
    "    SELECT t.cst_id,t.cst_key,t.cst_firstname,t.cst_lastname,t.cst_marital_status,t.cst_gndr,t.cst_create_date\n",
    "                                  FROM(\n",
    "                SELECT * , ROW_NUMBER() over(PARTITION BY cst_id ORDER BY cst_id) as rn  FROM customer_info as crm\n",
    "                )t\n",
    "        WHERE t.rn = 1 AND t.cst_id IS NOT NULL \n",
    "''')"
   ]
  },
  {
   "cell_type": "code",
   "execution_count": 73,
   "id": "7980d0b8",
   "metadata": {},
   "outputs": [
    {
     "name": "stdout",
     "output_type": "stream",
     "text": [
      "+------+----------+-------------+------------+------------------+--------+---------------+\n",
      "|cst_id|   cst_key|cst_firstname|cst_lastname|cst_marital_status|cst_gndr|cst_create_date|\n",
      "+------+----------+-------------+------------+------------------+--------+---------------+\n",
      "| 11000|AW00011000|          Jon|       Yang |                 M|       M|     2025-10-06|\n",
      "| 11001|AW00011001|       Eugene|     Huang  |                 S|       M|     2025-10-06|\n",
      "| 11002|AW00011002|        Ruben|      Torres|                 M|       M|     2025-10-06|\n",
      "| 11003|AW00011003|      Christy|         Zhu|                 S|       F|     2025-10-06|\n",
      "| 11004|AW00011004|    Elizabeth|     Johnson|                 S|       F|     2025-10-06|\n",
      "| 11005|AW00011005|        Julio|        Ruiz|                 S|       M|     2025-10-06|\n",
      "| 11006|AW00011006|        Janet|     Alvarez|                 S|       F|     2025-10-06|\n",
      "| 11007|AW00011007|        Marco|       Mehta|                 M|       M|     2025-10-06|\n",
      "| 11008|AW00011008|          Rob|     Verhoff|                 S|       F|     2025-10-06|\n",
      "| 11009|AW00011009|      Shannon|     Carlson|                 S|       M|     2025-10-06|\n",
      "| 11010|AW00011010|    Jacquelyn|      Suarez|                 S|       F|     2025-10-06|\n",
      "| 11011|AW00011011|       Curtis|          Lu|                 M|       M|     2025-10-06|\n",
      "| 11012|AW00011012|       Lauren|      Walker|                 M|       F|     2025-10-06|\n",
      "| 11013|AW00011013|         Ian |    Jenkins |                 M|       M|     2025-10-06|\n",
      "| 11014|AW00011014|       Sydney|     Bennett|                 S|       F|     2025-10-06|\n",
      "| 11015|AW00011015|        Chloe|       Young|                 S|       F|     2025-10-06|\n",
      "| 11016|AW00011016|        Wyatt|        Hill|                 M|       M|     2025-10-07|\n",
      "| 11017|AW00011017|      Shannon|        Wang|                 S|       F|     2025-10-07|\n",
      "| 11018|AW00011018|     Clarence|         Rai|                 S|       M|     2025-10-07|\n",
      "| 11019|AW00011019|         Luke|         Lal|                 S|       M|     2025-10-07|\n",
      "+------+----------+-------------+------------+------------------+--------+---------------+\n",
      "only showing top 20 rows\n",
      "\n"
     ]
    }
   ],
   "source": [
    "data_csv_cst_id_edit.show()"
   ]
  },
  {
   "cell_type": "markdown",
   "id": "0dc67c49",
   "metadata": {},
   "source": [
    "### Now column in customer information remove the replica and redandancy "
   ]
  },
  {
   "cell_type": "code",
   "execution_count": 74,
   "id": "d8d371a6",
   "metadata": {},
   "outputs": [
    {
     "name": "stdout",
     "output_type": "stream",
     "text": [
      "+------+------------+\n",
      "|cst_id|count_number|\n",
      "+------+------------+\n",
      "+------+------------+\n",
      "\n"
     ]
    }
   ],
   "source": [
    "# Now check after making data qulity in column cst_id\n",
    "data_csv_cst_id = data_csv_cst_id_edit.select('*')\\\n",
    ".groupBy('cst_id')\\\n",
    ".agg(fn.count('*').alias('count_number'))\\\n",
    ".where((col('cst_id').isNotNull()) & (col('count_number') > 1)).show()"
   ]
  },
  {
   "cell_type": "code",
   "execution_count": 75,
   "id": "3af341c3",
   "metadata": {},
   "outputs": [
    {
     "name": "stdout",
     "output_type": "stream",
     "text": [
      "+------+----------+-------------+------------+------------------+--------+---------------+\n",
      "|cst_id|   cst_key|cst_firstname|cst_lastname|cst_marital_status|cst_gndr|cst_create_date|\n",
      "+------+----------+-------------+------------+------------------+--------+---------------+\n",
      "| 11000|AW00011000|          Jon|       Yang |                 M|       M|     2025-10-06|\n",
      "| 11001|AW00011001|       Eugene|     Huang  |                 S|       M|     2025-10-06|\n",
      "+------+----------+-------------+------------+------------------+--------+---------------+\n",
      "only showing top 2 rows\n",
      "\n"
     ]
    }
   ],
   "source": [
    "data_csv_cst_id_edit.show(2)"
   ]
  },
  {
   "cell_type": "code",
   "execution_count": 76,
   "id": "24c39229",
   "metadata": {},
   "outputs": [],
   "source": [
    "data_csv_cst_cst_key_edit = data_csv_cst_id_edit.withColumn('cst_key' , regexp_extract(col('cst_key') , '(0.*)',1))"
   ]
  },
  {
   "cell_type": "code",
   "execution_count": 77,
   "id": "6abbb787",
   "metadata": {},
   "outputs": [
    {
     "name": "stdout",
     "output_type": "stream",
     "text": [
      "+------+--------+-------------+------------+------------------+--------+---------------+\n",
      "|cst_id| cst_key|cst_firstname|cst_lastname|cst_marital_status|cst_gndr|cst_create_date|\n",
      "+------+--------+-------------+------------+------------------+--------+---------------+\n",
      "| 11000|00011000|          Jon|       Yang |                 M|       M|     2025-10-06|\n",
      "| 11001|00011001|       Eugene|     Huang  |                 S|       M|     2025-10-06|\n",
      "+------+--------+-------------+------------+------------------+--------+---------------+\n",
      "only showing top 2 rows\n",
      "\n"
     ]
    }
   ],
   "source": [
    "data_csv_cst_cst_key_edit.show(2)"
   ]
  },
  {
   "cell_type": "code",
   "execution_count": 78,
   "id": "9bf90134",
   "metadata": {},
   "outputs": [],
   "source": [
    "# Remove Null's values \n",
    "data_csv_cst_cst_key_edit_null = data_csv_cst_cst_key_edit.select('*')\\\n",
    ".where(col('cst_key').isNotNull())"
   ]
  },
  {
   "cell_type": "code",
   "execution_count": 79,
   "id": "aa5a1f9e",
   "metadata": {},
   "outputs": [
    {
     "name": "stdout",
     "output_type": "stream",
     "text": [
      "+------+--------+-------------+------------+------------------+--------+---------------+\n",
      "|cst_id| cst_key|cst_firstname|cst_lastname|cst_marital_status|cst_gndr|cst_create_date|\n",
      "+------+--------+-------------+------------+------------------+--------+---------------+\n",
      "| 11000|00011000|          Jon|       Yang |                 M|       M|     2025-10-06|\n",
      "| 11001|00011001|       Eugene|     Huang  |                 S|       M|     2025-10-06|\n",
      "+------+--------+-------------+------------+------------------+--------+---------------+\n",
      "only showing top 2 rows\n",
      "\n"
     ]
    }
   ],
   "source": [
    "data_csv_cst_cst_key_edit_null.show(2)"
   ]
  },
  {
   "cell_type": "code",
   "execution_count": 80,
   "id": "8575cd4a",
   "metadata": {},
   "outputs": [],
   "source": [
    "# Now check about the data cleasing unwanted spaces\n",
    "data_csv_cst_firstname_check = data_csv_cst_cst_key_edit_null.select('cst_firstname')\\\n",
    ".where(col('cst_firstname') != trim('cst_firstname')).count()"
   ]
  },
  {
   "cell_type": "code",
   "execution_count": 81,
   "id": "18610c49",
   "metadata": {},
   "outputs": [
    {
     "data": {
      "text/plain": [
       "17"
      ]
     },
     "execution_count": 81,
     "metadata": {},
     "output_type": "execute_result"
    }
   ],
   "source": [
    "# Now have a problem have 17 unwantwed spaces names \n",
    "data_csv_cst_firstname_check"
   ]
  },
  {
   "cell_type": "code",
   "execution_count": 82,
   "id": "e5944bb3",
   "metadata": {},
   "outputs": [],
   "source": [
    "# Now solve this problem to handle unwanted spaces \n",
    "data_csv_cst_names_trim = data_csv_cst_cst_key_edit_null.withColumn('cst_firstname' , trim(col('cst_firstname')))\\\n",
    "    .withColumn('cst_lastname',trim(col('cst_lastname')))"
   ]
  },
  {
   "cell_type": "code",
   "execution_count": 83,
   "id": "bb4531bb",
   "metadata": {},
   "outputs": [
    {
     "name": "stdout",
     "output_type": "stream",
     "text": [
      "+------+--------+-------------+------------+------------------+--------+---------------+\n",
      "|cst_id| cst_key|cst_firstname|cst_lastname|cst_marital_status|cst_gndr|cst_create_date|\n",
      "+------+--------+-------------+------------+------------------+--------+---------------+\n",
      "| 11000|00011000|          Jon|        Yang|                 M|       M|     2025-10-06|\n",
      "| 11001|00011001|       Eugene|       Huang|                 S|       M|     2025-10-06|\n",
      "| 11002|00011002|        Ruben|      Torres|                 M|       M|     2025-10-06|\n",
      "| 11003|00011003|      Christy|         Zhu|                 S|       F|     2025-10-06|\n",
      "| 11004|00011004|    Elizabeth|     Johnson|                 S|       F|     2025-10-06|\n",
      "| 11005|00011005|        Julio|        Ruiz|                 S|       M|     2025-10-06|\n",
      "| 11006|00011006|        Janet|     Alvarez|                 S|       F|     2025-10-06|\n",
      "| 11007|00011007|        Marco|       Mehta|                 M|       M|     2025-10-06|\n",
      "| 11008|00011008|          Rob|     Verhoff|                 S|       F|     2025-10-06|\n",
      "| 11009|00011009|      Shannon|     Carlson|                 S|       M|     2025-10-06|\n",
      "| 11010|00011010|    Jacquelyn|      Suarez|                 S|       F|     2025-10-06|\n",
      "| 11011|00011011|       Curtis|          Lu|                 M|       M|     2025-10-06|\n",
      "| 11012|00011012|       Lauren|      Walker|                 M|       F|     2025-10-06|\n",
      "| 11013|00011013|          Ian|     Jenkins|                 M|       M|     2025-10-06|\n",
      "| 11014|00011014|       Sydney|     Bennett|                 S|       F|     2025-10-06|\n",
      "| 11015|00011015|        Chloe|       Young|                 S|       F|     2025-10-06|\n",
      "| 11016|00011016|        Wyatt|        Hill|                 M|       M|     2025-10-07|\n",
      "| 11017|00011017|      Shannon|        Wang|                 S|       F|     2025-10-07|\n",
      "| 11018|00011018|     Clarence|         Rai|                 S|       M|     2025-10-07|\n",
      "| 11019|00011019|         Luke|         Lal|                 S|       M|     2025-10-07|\n",
      "+------+--------+-------------+------------+------------------+--------+---------------+\n",
      "only showing top 20 rows\n",
      "\n"
     ]
    }
   ],
   "source": [
    "data_csv_cst_names_trim.show()"
   ]
  },
  {
   "cell_type": "code",
   "execution_count": 84,
   "id": "ee27d026",
   "metadata": {},
   "outputs": [],
   "source": [
    "data_csv_cst_firstname_check_after_trim = data_csv_cst_names_trim.select('cst_firstname')\\\n",
    ".where(col('cst_firstname') != trim('cst_firstname')).count()"
   ]
  },
  {
   "cell_type": "code",
   "execution_count": 85,
   "id": "4fc7e6ab",
   "metadata": {},
   "outputs": [
    {
     "data": {
      "text/plain": [
       "0"
      ]
     },
     "execution_count": 85,
     "metadata": {},
     "output_type": "execute_result"
    }
   ],
   "source": [
    "# Now data good quality by removing unwanted spaces from cst_firstname and cst_lastname\n",
    "data_csv_cst_firstname_check_after_trim"
   ]
  },
  {
   "cell_type": "code",
   "execution_count": 86,
   "id": "c2a1d5a1",
   "metadata": {},
   "outputs": [
    {
     "name": "stdout",
     "output_type": "stream",
     "text": [
      "+------+--------+-------------+------------+------------------+--------+---------------+\n",
      "|cst_id| cst_key|cst_firstname|cst_lastname|cst_marital_status|cst_gndr|cst_create_date|\n",
      "+------+--------+-------------+------------+------------------+--------+---------------+\n",
      "| 11000|00011000|          Jon|        Yang|                 M|       M|     2025-10-06|\n",
      "| 11001|00011001|       Eugene|       Huang|                 S|       M|     2025-10-06|\n",
      "| 11002|00011002|        Ruben|      Torres|                 M|       M|     2025-10-06|\n",
      "| 11003|00011003|      Christy|         Zhu|                 S|       F|     2025-10-06|\n",
      "| 11004|00011004|    Elizabeth|     Johnson|                 S|       F|     2025-10-06|\n",
      "+------+--------+-------------+------------+------------------+--------+---------------+\n",
      "only showing top 5 rows\n",
      "\n"
     ]
    }
   ],
   "source": [
    "data_csv_cst_names_trim.show(5)"
   ]
  },
  {
   "cell_type": "code",
   "execution_count": 87,
   "id": "293f54d5",
   "metadata": {},
   "outputs": [
    {
     "name": "stdout",
     "output_type": "stream",
     "text": [
      "+------------------+\n",
      "|cst_marital_status|\n",
      "+------------------+\n",
      "|                 M|\n",
      "|                 S|\n",
      "|              NULL|\n",
      "+------------------+\n",
      "\n"
     ]
    }
   ],
   "source": [
    "# Now check about the data standralization and consistency \n",
    "data_csv_cst_marital_status = data_csv_cst_names_trim.select('cst_marital_status').distinct().show()"
   ]
  },
  {
   "cell_type": "code",
   "execution_count": 88,
   "id": "858db830",
   "metadata": {},
   "outputs": [],
   "source": [
    "data_csv_cst_names_trim.createOrReplaceTempView('customer_info_marital')"
   ]
  },
  {
   "cell_type": "code",
   "execution_count": 89,
   "id": "bb457e2e",
   "metadata": {},
   "outputs": [
    {
     "name": "stdout",
     "output_type": "stream",
     "text": [
      "+------+--------+-------------+------------+------------------+--------+---------------+\n",
      "|cst_id| cst_key|cst_firstname|cst_lastname|cst_marital_status|cst_gndr|cst_create_date|\n",
      "+------+--------+-------------+------------+------------------+--------+---------------+\n",
      "| 11000|00011000|          Jon|        Yang|                 M|       M|     2025-10-06|\n",
      "| 11001|00011001|       Eugene|       Huang|                 S|       M|     2025-10-06|\n",
      "+------+--------+-------------+------------+------------------+--------+---------------+\n",
      "only showing top 2 rows\n",
      "\n"
     ]
    }
   ],
   "source": [
    "spark.sql('SELECT * FROM customer_info_marital').show(2)"
   ]
  },
  {
   "cell_type": "code",
   "execution_count": 90,
   "id": "2b6c3116",
   "metadata": {},
   "outputs": [
    {
     "name": "stdout",
     "output_type": "stream",
     "text": [
      "+--------+\n",
      "|cst_gndr|\n",
      "+--------+\n",
      "|       F|\n",
      "|       M|\n",
      "|    NULL|\n",
      "+--------+\n",
      "\n"
     ]
    }
   ],
   "source": [
    "data_csv_cst_gndr = data_csv_cst_names_trim.select('cst_gndr').distinct().show()"
   ]
  },
  {
   "cell_type": "code",
   "execution_count": 91,
   "id": "6823dff5",
   "metadata": {},
   "outputs": [],
   "source": [
    "data_csv_cst_marital_status_edit = spark.sql('''\n",
    "    SELECT crm.cst_id , crm.cst_key,crm.cst_firstname,crm.cst_lastname,\n",
    "                        CASE \n",
    "                            WHEN UPPER(TRIM(crm.cst_marital_status)) = 'M' THEN 'MARRIED'\n",
    "                            WHEN UPPER(TRIM(crm.cst_marital_status)) = 'S' THEN 'SINGLE'                         \n",
    "                            ELSE 'N/A'                         \n",
    "                        END AS cst_marital_status , \n",
    "                        CASE\n",
    "                            WHEN UPPER(TRIM(crm.cst_gndr)) = 'F' THEN 'FEMALE'\n",
    "                            WHEN UPPER(TRIM(crm.cst_gndr)) = 'M' THEN 'MALE'\n",
    "                            ELSE 'N/A'\n",
    "                        END AS cst_gndr, \n",
    "                        crm.cst_create_date\n",
    "                    FROM customer_info_marital as crm\n",
    "''')"
   ]
  },
  {
   "cell_type": "code",
   "execution_count": 92,
   "id": "78ff93ad",
   "metadata": {},
   "outputs": [
    {
     "name": "stdout",
     "output_type": "stream",
     "text": [
      "+------+--------+-------------+------------+------------------+--------+---------------+\n",
      "|cst_id| cst_key|cst_firstname|cst_lastname|cst_marital_status|cst_gndr|cst_create_date|\n",
      "+------+--------+-------------+------------+------------------+--------+---------------+\n",
      "| 11000|00011000|          Jon|        Yang|           MARRIED|    MALE|     2025-10-06|\n",
      "| 11001|00011001|       Eugene|       Huang|            SINGLE|    MALE|     2025-10-06|\n",
      "| 11002|00011002|        Ruben|      Torres|           MARRIED|    MALE|     2025-10-06|\n",
      "| 11003|00011003|      Christy|         Zhu|            SINGLE|  FEMALE|     2025-10-06|\n",
      "| 11004|00011004|    Elizabeth|     Johnson|            SINGLE|  FEMALE|     2025-10-06|\n",
      "| 11005|00011005|        Julio|        Ruiz|            SINGLE|    MALE|     2025-10-06|\n",
      "| 11006|00011006|        Janet|     Alvarez|            SINGLE|  FEMALE|     2025-10-06|\n",
      "| 11007|00011007|        Marco|       Mehta|           MARRIED|    MALE|     2025-10-06|\n",
      "| 11008|00011008|          Rob|     Verhoff|            SINGLE|  FEMALE|     2025-10-06|\n",
      "| 11009|00011009|      Shannon|     Carlson|            SINGLE|    MALE|     2025-10-06|\n",
      "| 11010|00011010|    Jacquelyn|      Suarez|            SINGLE|  FEMALE|     2025-10-06|\n",
      "| 11011|00011011|       Curtis|          Lu|           MARRIED|    MALE|     2025-10-06|\n",
      "| 11012|00011012|       Lauren|      Walker|           MARRIED|  FEMALE|     2025-10-06|\n",
      "| 11013|00011013|          Ian|     Jenkins|           MARRIED|    MALE|     2025-10-06|\n",
      "| 11014|00011014|       Sydney|     Bennett|            SINGLE|  FEMALE|     2025-10-06|\n",
      "| 11015|00011015|        Chloe|       Young|            SINGLE|  FEMALE|     2025-10-06|\n",
      "| 11016|00011016|        Wyatt|        Hill|           MARRIED|    MALE|     2025-10-07|\n",
      "| 11017|00011017|      Shannon|        Wang|            SINGLE|  FEMALE|     2025-10-07|\n",
      "| 11018|00011018|     Clarence|         Rai|            SINGLE|    MALE|     2025-10-07|\n",
      "| 11019|00011019|         Luke|         Lal|            SINGLE|    MALE|     2025-10-07|\n",
      "+------+--------+-------------+------------+------------------+--------+---------------+\n",
      "only showing top 20 rows\n",
      "\n"
     ]
    }
   ],
   "source": [
    "data_csv_cst_marital_status_edit.show()"
   ]
  },
  {
   "cell_type": "code",
   "execution_count": 93,
   "id": "9091c909",
   "metadata": {},
   "outputs": [
    {
     "data": {
      "text/plain": [
       "[('cst_id', 'int'),\n",
       " ('cst_key', 'string'),\n",
       " ('cst_firstname', 'string'),\n",
       " ('cst_lastname', 'string'),\n",
       " ('cst_marital_status', 'string'),\n",
       " ('cst_gndr', 'string'),\n",
       " ('cst_create_date', 'date')]"
      ]
     },
     "execution_count": 93,
     "metadata": {},
     "output_type": "execute_result"
    }
   ],
   "source": [
    "data_csv_cst_marital_status_edit.dtypes"
   ]
  },
  {
   "cell_type": "code",
   "execution_count": 94,
   "id": "10c58b38",
   "metadata": {},
   "outputs": [],
   "source": [
    "data_csv_cst__date_format = data_csv_cst_marital_status_edit.withColumn('cst_create_date' , date_format(col('cst_create_date'),'dd-MM-yyyy'))"
   ]
  },
  {
   "cell_type": "code",
   "execution_count": 95,
   "id": "957c9a02",
   "metadata": {},
   "outputs": [
    {
     "data": {
      "text/plain": [
       "[('cst_id', 'int'),\n",
       " ('cst_key', 'string'),\n",
       " ('cst_firstname', 'string'),\n",
       " ('cst_lastname', 'string'),\n",
       " ('cst_marital_status', 'string'),\n",
       " ('cst_gndr', 'string'),\n",
       " ('cst_create_date', 'string')]"
      ]
     },
     "execution_count": 95,
     "metadata": {},
     "output_type": "execute_result"
    }
   ],
   "source": [
    "data_csv_cst__date_format.dtypes"
   ]
  },
  {
   "cell_type": "code",
   "execution_count": 96,
   "id": "b3c0231d",
   "metadata": {},
   "outputs": [
    {
     "name": "stdout",
     "output_type": "stream",
     "text": [
      "+------+--------+-------------+------------+------------------+--------+---------------+\n",
      "|cst_id| cst_key|cst_firstname|cst_lastname|cst_marital_status|cst_gndr|cst_create_date|\n",
      "+------+--------+-------------+------------+------------------+--------+---------------+\n",
      "| 11000|00011000|          Jon|        Yang|           MARRIED|    MALE|     2025-10-06|\n",
      "| 11001|00011001|       Eugene|       Huang|            SINGLE|    MALE|     2025-10-06|\n",
      "| 11002|00011002|        Ruben|      Torres|           MARRIED|    MALE|     2025-10-06|\n",
      "| 11003|00011003|      Christy|         Zhu|            SINGLE|  FEMALE|     2025-10-06|\n",
      "| 11004|00011004|    Elizabeth|     Johnson|            SINGLE|  FEMALE|     2025-10-06|\n",
      "| 11005|00011005|        Julio|        Ruiz|            SINGLE|    MALE|     2025-10-06|\n",
      "| 11006|00011006|        Janet|     Alvarez|            SINGLE|  FEMALE|     2025-10-06|\n",
      "| 11007|00011007|        Marco|       Mehta|           MARRIED|    MALE|     2025-10-06|\n",
      "| 11008|00011008|          Rob|     Verhoff|            SINGLE|  FEMALE|     2025-10-06|\n",
      "| 11009|00011009|      Shannon|     Carlson|            SINGLE|    MALE|     2025-10-06|\n",
      "| 11010|00011010|    Jacquelyn|      Suarez|            SINGLE|  FEMALE|     2025-10-06|\n",
      "| 11011|00011011|       Curtis|          Lu|           MARRIED|    MALE|     2025-10-06|\n",
      "| 11012|00011012|       Lauren|      Walker|           MARRIED|  FEMALE|     2025-10-06|\n",
      "| 11013|00011013|          Ian|     Jenkins|           MARRIED|    MALE|     2025-10-06|\n",
      "| 11014|00011014|       Sydney|     Bennett|            SINGLE|  FEMALE|     2025-10-06|\n",
      "| 11015|00011015|        Chloe|       Young|            SINGLE|  FEMALE|     2025-10-06|\n",
      "| 11016|00011016|        Wyatt|        Hill|           MARRIED|    MALE|     2025-10-07|\n",
      "| 11017|00011017|      Shannon|        Wang|            SINGLE|  FEMALE|     2025-10-07|\n",
      "| 11018|00011018|     Clarence|         Rai|            SINGLE|    MALE|     2025-10-07|\n",
      "| 11019|00011019|         Luke|         Lal|            SINGLE|    MALE|     2025-10-07|\n",
      "+------+--------+-------------+------------+------------------+--------+---------------+\n",
      "only showing top 20 rows\n",
      "\n"
     ]
    }
   ],
   "source": [
    "data_csv_cst__date_format.withColumn('cst_create_date' , to_date(col('cst_create_date'),'dd-MM-yyyy')).show()"
   ]
  },
  {
   "cell_type": "code",
   "execution_count": 97,
   "id": "b692f23c",
   "metadata": {},
   "outputs": [
    {
     "name": "stdout",
     "output_type": "stream",
     "text": [
      "+------+--------+-------------+------------+------------------+--------+---------------+\n",
      "|cst_id| cst_key|cst_firstname|cst_lastname|cst_marital_status|cst_gndr|cst_create_date|\n",
      "+------+--------+-------------+------------+------------------+--------+---------------+\n",
      "| 11000|00011000|          Jon|        Yang|           MARRIED|    MALE|     06-10-2025|\n",
      "| 11001|00011001|       Eugene|       Huang|            SINGLE|    MALE|     06-10-2025|\n",
      "| 11002|00011002|        Ruben|      Torres|           MARRIED|    MALE|     06-10-2025|\n",
      "| 11003|00011003|      Christy|         Zhu|            SINGLE|  FEMALE|     06-10-2025|\n",
      "| 11004|00011004|    Elizabeth|     Johnson|            SINGLE|  FEMALE|     06-10-2025|\n",
      "| 11005|00011005|        Julio|        Ruiz|            SINGLE|    MALE|     06-10-2025|\n",
      "| 11006|00011006|        Janet|     Alvarez|            SINGLE|  FEMALE|     06-10-2025|\n",
      "| 11007|00011007|        Marco|       Mehta|           MARRIED|    MALE|     06-10-2025|\n",
      "| 11008|00011008|          Rob|     Verhoff|            SINGLE|  FEMALE|     06-10-2025|\n",
      "| 11009|00011009|      Shannon|     Carlson|            SINGLE|    MALE|     06-10-2025|\n",
      "| 11010|00011010|    Jacquelyn|      Suarez|            SINGLE|  FEMALE|     06-10-2025|\n",
      "| 11011|00011011|       Curtis|          Lu|           MARRIED|    MALE|     06-10-2025|\n",
      "| 11012|00011012|       Lauren|      Walker|           MARRIED|  FEMALE|     06-10-2025|\n",
      "| 11013|00011013|          Ian|     Jenkins|           MARRIED|    MALE|     06-10-2025|\n",
      "| 11014|00011014|       Sydney|     Bennett|            SINGLE|  FEMALE|     06-10-2025|\n",
      "| 11015|00011015|        Chloe|       Young|            SINGLE|  FEMALE|     06-10-2025|\n",
      "| 11016|00011016|        Wyatt|        Hill|           MARRIED|    MALE|     07-10-2025|\n",
      "| 11017|00011017|      Shannon|        Wang|            SINGLE|  FEMALE|     07-10-2025|\n",
      "| 11018|00011018|     Clarence|         Rai|            SINGLE|    MALE|     07-10-2025|\n",
      "| 11019|00011019|         Luke|         Lal|            SINGLE|    MALE|     07-10-2025|\n",
      "+------+--------+-------------+------------+------------------+--------+---------------+\n",
      "only showing top 20 rows\n",
      "\n"
     ]
    }
   ],
   "source": [
    "data_csv_cst__date_format.show()"
   ]
  },
  {
   "cell_type": "code",
   "execution_count": 98,
   "id": "7d78fc81",
   "metadata": {},
   "outputs": [
    {
     "data": {
      "text/plain": [
       "[('cst_id', 'int'),\n",
       " ('cst_key', 'string'),\n",
       " ('cst_firstname', 'string'),\n",
       " ('cst_lastname', 'string'),\n",
       " ('cst_marital_status', 'string'),\n",
       " ('cst_gndr', 'string'),\n",
       " ('cst_create_date', 'string')]"
      ]
     },
     "execution_count": 98,
     "metadata": {},
     "output_type": "execute_result"
    }
   ],
   "source": [
    "data_csv_cst__date_format.dtypes"
   ]
  },
  {
   "cell_type": "code",
   "execution_count": 99,
   "id": "413961f1",
   "metadata": {},
   "outputs": [
    {
     "data": {
      "text/plain": [
       "DataFrame[]"
      ]
     },
     "execution_count": 99,
     "metadata": {},
     "output_type": "execute_result"
    }
   ],
   "source": [
    "spark.sql('USE Employee')"
   ]
  },
  {
   "cell_type": "code",
   "execution_count": 100,
   "id": "84bba984",
   "metadata": {},
   "outputs": [
    {
     "name": "stderr",
     "output_type": "stream",
     "text": [
      "                                                                                \r"
     ]
    }
   ],
   "source": [
    "data_csv_cst__date_format.write.mode('overwrite').saveAsTable('customer_infoo')"
   ]
  },
  {
   "cell_type": "code",
   "execution_count": 102,
   "id": "47ac943b",
   "metadata": {},
   "outputs": [
    {
     "name": "stdout",
     "output_type": "stream",
     "text": [
      "+------+--------+-------------+------------+------------------+--------+---------------+\n",
      "|cst_id| cst_key|cst_firstname|cst_lastname|cst_marital_status|cst_gndr|cst_create_date|\n",
      "+------+--------+-------------+------------+------------------+--------+---------------+\n",
      "| 11000|00011000|          Jon|        Yang|           MARRIED|    MALE|     06-10-2025|\n",
      "| 11001|00011001|       Eugene|       Huang|            SINGLE|    MALE|     06-10-2025|\n",
      "| 11002|00011002|        Ruben|      Torres|           MARRIED|    MALE|     06-10-2025|\n",
      "| 11003|00011003|      Christy|         Zhu|            SINGLE|  FEMALE|     06-10-2025|\n",
      "| 11004|00011004|    Elizabeth|     Johnson|            SINGLE|  FEMALE|     06-10-2025|\n",
      "| 11005|00011005|        Julio|        Ruiz|            SINGLE|    MALE|     06-10-2025|\n",
      "| 11006|00011006|        Janet|     Alvarez|            SINGLE|  FEMALE|     06-10-2025|\n",
      "| 11007|00011007|        Marco|       Mehta|           MARRIED|    MALE|     06-10-2025|\n",
      "| 11008|00011008|          Rob|     Verhoff|            SINGLE|  FEMALE|     06-10-2025|\n",
      "| 11009|00011009|      Shannon|     Carlson|            SINGLE|    MALE|     06-10-2025|\n",
      "| 11010|00011010|    Jacquelyn|      Suarez|            SINGLE|  FEMALE|     06-10-2025|\n",
      "| 11011|00011011|       Curtis|          Lu|           MARRIED|    MALE|     06-10-2025|\n",
      "| 11012|00011012|       Lauren|      Walker|           MARRIED|  FEMALE|     06-10-2025|\n",
      "| 11013|00011013|          Ian|     Jenkins|           MARRIED|    MALE|     06-10-2025|\n",
      "| 11014|00011014|       Sydney|     Bennett|            SINGLE|  FEMALE|     06-10-2025|\n",
      "| 11015|00011015|        Chloe|       Young|            SINGLE|  FEMALE|     06-10-2025|\n",
      "| 11016|00011016|        Wyatt|        Hill|           MARRIED|    MALE|     07-10-2025|\n",
      "| 11017|00011017|      Shannon|        Wang|            SINGLE|  FEMALE|     07-10-2025|\n",
      "| 11018|00011018|     Clarence|         Rai|            SINGLE|    MALE|     07-10-2025|\n",
      "| 11019|00011019|         Luke|         Lal|            SINGLE|    MALE|     07-10-2025|\n",
      "+------+--------+-------------+------------+------------------+--------+---------------+\n",
      "only showing top 20 rows\n",
      "\n"
     ]
    }
   ],
   "source": [
    "spark.sql('USE Employee')\n",
    "spark.sql('SELECT * FROM Employee.customer_infoo').show()"
   ]
  },
  {
   "cell_type": "code",
   "execution_count": 103,
   "id": "3a9e87ac",
   "metadata": {},
   "outputs": [],
   "source": [
    "data_csv_cst__date_format.createOrReplaceTempView('finale_customer_edit')"
   ]
  },
  {
   "cell_type": "code",
   "execution_count": 104,
   "id": "f5de74d0",
   "metadata": {},
   "outputs": [
    {
     "name": "stdout",
     "output_type": "stream",
     "text": [
      "+------+--------+-------------+------------+------------------+--------+---------------+\n",
      "|cst_id| cst_key|cst_firstname|cst_lastname|cst_marital_status|cst_gndr|cst_create_date|\n",
      "+------+--------+-------------+------------+------------------+--------+---------------+\n",
      "| 11000|00011000|          Jon|        Yang|           MARRIED|    MALE|     06-10-2025|\n",
      "| 11001|00011001|       Eugene|       Huang|            SINGLE|    MALE|     06-10-2025|\n",
      "+------+--------+-------------+------------+------------------+--------+---------------+\n",
      "only showing top 2 rows\n",
      "\n"
     ]
    }
   ],
   "source": [
    "data_csv_cst__date_format.show(2)"
   ]
  },
  {
   "cell_type": "code",
   "execution_count": 105,
   "id": "08c9d363",
   "metadata": {},
   "outputs": [],
   "source": [
    "data_customer_info = spark.sql('''\n",
    "                SELECT    \n",
    "                               ROW_NUMBER() over(order by fn.cst_create_date DESC) as customer_idd,\n",
    "                               fn.cst_id as customer_id, \n",
    "                               fn.cst_key as customer_key,\n",
    "                               fn.cst_firstname as customer_first_name,\n",
    "                               fn.cst_lastname as customert_last_name,\n",
    "                               fn.cst_marital_status as customer_marital_status,\n",
    "                               fn.cst_gndr as customer_gender,\n",
    "                               fn.cst_create_date as customer_date \n",
    "                               \n",
    "                               FROM finale_customer_edit as fn \n",
    "\n",
    "''')"
   ]
  },
  {
   "cell_type": "code",
   "execution_count": 106,
   "id": "03bc2dc3",
   "metadata": {},
   "outputs": [
    {
     "name": "stdout",
     "output_type": "stream",
     "text": [
      "+---------------+\n",
      "|customer_gender|\n",
      "+---------------+\n",
      "|           MALE|\n",
      "|            N/A|\n",
      "|         FEMALE|\n",
      "+---------------+\n",
      "\n"
     ]
    }
   ],
   "source": [
    "data_customer_info.select('customer_gender').distinct().show()"
   ]
  },
  {
   "cell_type": "code",
   "execution_count": null,
   "id": "cc90da3d",
   "metadata": {},
   "outputs": [],
   "source": [
    "spark.sql('DROP TABLE IF EXISTS customer_infoo')"
   ]
  },
  {
   "cell_type": "code",
   "execution_count": 107,
   "id": "ec5d0616",
   "metadata": {},
   "outputs": [],
   "source": [
    "# Save as managed table in spark-warehouse \n",
    "data_customer_info.write.mode('overwrite').saveAsTable('customer_infoo')"
   ]
  },
  {
   "cell_type": "code",
   "execution_count": 108,
   "id": "dbb65a1e",
   "metadata": {},
   "outputs": [
    {
     "name": "stdout",
     "output_type": "stream",
     "text": [
      "+------------+-----------+------------+-------------------+-------------------+-----------------------+---------------+-------------+\n",
      "|customer_idd|customer_id|customer_key|customer_first_name|customert_last_name|customer_marital_status|customer_gender|customer_date|\n",
      "+------------+-----------+------------+-------------------+-------------------+-----------------------+---------------+-------------+\n",
      "|           1|      15351|    00015351|              Steve|                 Lu|                MARRIED|            N/A|   31-12-2025|\n",
      "|           2|      15195|    00015195|              Edwin|              Huang|                 SINGLE|            N/A|   31-10-2025|\n",
      "|           3|      15350|    00015350|           Kathleen|            Serrano|                MARRIED|            N/A|   30-12-2025|\n",
      "|           4|      15225|    00015225|            Yolanda|               Bhat|                MARRIED|            N/A|   30-11-2025|\n",
      "|           5|      15194|    00015194|               Erik|             Suarez|                 SINGLE|            N/A|   30-10-2025|\n",
      "|           6|      15349|    00015349|          Stephanie|           Gonzalez|                MARRIED|            N/A|   29-12-2025|\n",
      "|           7|      15224|    00015224|              Pedro|          Gutierrez|                 SINGLE|            N/A|   29-11-2025|\n",
      "|           8|      15193|    00015193|             Samuel|               King|                 SINGLE|            N/A|   29-10-2025|\n",
      "|           9|      15348|    00015348|               Greg|             Carter|                 SINGLE|            N/A|   28-12-2025|\n",
      "|          10|      15223|    00015223|              Ebony|             Martin|                 SINGLE|            N/A|   28-11-2025|\n",
      "|          11|      15192|    00015192|              Tasha|               Shan|                 SINGLE|            N/A|   28-10-2025|\n",
      "|          12|      15347|    00015347|             Deanna|             Alonso|                MARRIED|            N/A|   27-12-2025|\n",
      "|          13|      15222|    00015222|            Cynthia|              Patel|                MARRIED|            N/A|   27-11-2025|\n",
      "|          14|      15191|    00015191|             Andres|              Kumar|                 SINGLE|            N/A|   27-10-2025|\n",
      "|          15|      15346|    00015346|            Charles|          Rodriguez|                 SINGLE|            N/A|   26-12-2025|\n",
      "|          16|      15221|    00015221|               Troy|               Arun|                 SINGLE|            N/A|   26-11-2025|\n",
      "|          17|      15190|    00015190|          Katherine|             Watson|                 SINGLE|            N/A|   26-10-2025|\n",
      "|          18|      15345|    00015345|             Ashley|              Perry|                MARRIED|            N/A|   25-12-2025|\n",
      "|          19|      15220|    00015220|              Micah|                Liu|                 SINGLE|            N/A|   25-11-2025|\n",
      "|          20|      15189|    00015189|              Kayla|            Russell|                MARRIED|            N/A|   25-10-2025|\n",
      "+------------+-----------+------------+-------------------+-------------------+-----------------------+---------------+-------------+\n",
      "only showing top 20 rows\n",
      "\n"
     ]
    }
   ],
   "source": [
    "spark.sql('SELECT * FROM customer_infoo').show()"
   ]
  },
  {
   "cell_type": "code",
   "execution_count": 109,
   "id": "a030025f",
   "metadata": {},
   "outputs": [],
   "source": [
    "data_customer_info.write.format('parquet')\\\n",
    ".option('compression' , 'gzip')\\\n",
    ".option('path', '/home/hazem/snowflake_dbt_spark/scripts/files_output/')\\\n",
    ".mode('append')\\\n",
    ".save()"
   ]
  },
  {
   "cell_type": "code",
   "execution_count": 111,
   "id": "b5a0bf3b",
   "metadata": {},
   "outputs": [
    {
     "name": "stdout",
     "output_type": "stream",
     "text": [
      "+------------+-----------+------------+-------------------+-------------------+-----------------------+---------------+-------------+\n",
      "|customer_idd|customer_id|customer_key|customer_first_name|customert_last_name|customer_marital_status|customer_gender|customer_date|\n",
      "+------------+-----------+------------+-------------------+-------------------+-----------------------+---------------+-------------+\n",
      "|           1|      15351|    00015351|              Steve|                 Lu|                MARRIED|            N/A|   31-12-2025|\n",
      "|           2|      15195|    00015195|              Edwin|              Huang|                 SINGLE|            N/A|   31-10-2025|\n",
      "+------------+-----------+------------+-------------------+-------------------+-----------------------+---------------+-------------+\n",
      "only showing top 2 rows\n",
      "\n"
     ]
    }
   ],
   "source": [
    "data_customer_info.show(2)"
   ]
  },
  {
   "cell_type": "code",
   "execution_count": 133,
   "id": "aeb07581",
   "metadata": {},
   "outputs": [
    {
     "ename": "Py4JJavaError",
     "evalue": "An error occurred while calling o414.save.\n: java.lang.ClassNotFoundException: com.mysql.cj.jdbc.Driver\n\tat java.base/java.net.URLClassLoader.findClass(URLClassLoader.java:476)\n\tat java.base/java.lang.ClassLoader.loadClass(ClassLoader.java:594)\n\tat java.base/java.lang.ClassLoader.loadClass(ClassLoader.java:527)\n\tat org.apache.spark.sql.execution.datasources.jdbc.DriverRegistry$.register(DriverRegistry.scala:46)\n\tat org.apache.spark.sql.execution.datasources.jdbc.JDBCOptions.$anonfun$driverClass$1(JDBCOptions.scala:103)\n\tat org.apache.spark.sql.execution.datasources.jdbc.JDBCOptions.$anonfun$driverClass$1$adapted(JDBCOptions.scala:103)\n\tat scala.Option.foreach(Option.scala:407)\n\tat org.apache.spark.sql.execution.datasources.jdbc.JDBCOptions.<init>(JDBCOptions.scala:103)\n\tat org.apache.spark.sql.execution.datasources.jdbc.JdbcOptionsInWrite.<init>(JDBCOptions.scala:254)\n\tat org.apache.spark.sql.execution.datasources.jdbc.JdbcOptionsInWrite.<init>(JDBCOptions.scala:258)\n\tat org.apache.spark.sql.execution.datasources.jdbc.JdbcRelationProvider.createRelation(JdbcRelationProvider.scala:47)\n\tat org.apache.spark.sql.execution.datasources.SaveIntoDataSourceCommand.run(SaveIntoDataSourceCommand.scala:48)\n\tat org.apache.spark.sql.execution.command.ExecutedCommandExec.sideEffectResult$lzycompute(commands.scala:75)\n\tat org.apache.spark.sql.execution.command.ExecutedCommandExec.sideEffectResult(commands.scala:73)\n\tat org.apache.spark.sql.execution.command.ExecutedCommandExec.executeCollect(commands.scala:84)\n\tat org.apache.spark.sql.execution.QueryExecution$$anonfun$eagerlyExecuteCommands$1.$anonfun$applyOrElse$1(QueryExecution.scala:107)\n\tat org.apache.spark.sql.execution.SQLExecution$.$anonfun$withNewExecutionId$6(SQLExecution.scala:125)\n\tat org.apache.spark.sql.execution.SQLExecution$.withSQLConfPropagated(SQLExecution.scala:201)\n\tat org.apache.spark.sql.execution.SQLExecution$.$anonfun$withNewExecutionId$1(SQLExecution.scala:108)\n\tat org.apache.spark.sql.SparkSession.withActive(SparkSession.scala:900)\n\tat org.apache.spark.sql.execution.SQLExecution$.withNewExecutionId(SQLExecution.scala:66)\n\tat org.apache.spark.sql.execution.QueryExecution$$anonfun$eagerlyExecuteCommands$1.applyOrElse(QueryExecution.scala:107)\n\tat org.apache.spark.sql.execution.QueryExecution$$anonfun$eagerlyExecuteCommands$1.applyOrElse(QueryExecution.scala:98)\n\tat org.apache.spark.sql.catalyst.trees.TreeNode.$anonfun$transformDownWithPruning$1(TreeNode.scala:461)\n\tat org.apache.spark.sql.catalyst.trees.CurrentOrigin$.withOrigin(origin.scala:76)\n\tat org.apache.spark.sql.catalyst.trees.TreeNode.transformDownWithPruning(TreeNode.scala:461)\n\tat org.apache.spark.sql.catalyst.plans.logical.LogicalPlan.org$apache$spark$sql$catalyst$plans$logical$AnalysisHelper$$super$transformDownWithPruning(LogicalPlan.scala:32)\n\tat org.apache.spark.sql.catalyst.plans.logical.AnalysisHelper.transformDownWithPruning(AnalysisHelper.scala:267)\n\tat org.apache.spark.sql.catalyst.plans.logical.AnalysisHelper.transformDownWithPruning$(AnalysisHelper.scala:263)\n\tat org.apache.spark.sql.catalyst.plans.logical.LogicalPlan.transformDownWithPruning(LogicalPlan.scala:32)\n\tat org.apache.spark.sql.catalyst.plans.logical.LogicalPlan.transformDownWithPruning(LogicalPlan.scala:32)\n\tat org.apache.spark.sql.catalyst.trees.TreeNode.transformDown(TreeNode.scala:437)\n\tat org.apache.spark.sql.execution.QueryExecution.eagerlyExecuteCommands(QueryExecution.scala:98)\n\tat org.apache.spark.sql.execution.QueryExecution.commandExecuted$lzycompute(QueryExecution.scala:85)\n\tat org.apache.spark.sql.execution.QueryExecution.commandExecuted(QueryExecution.scala:83)\n\tat org.apache.spark.sql.execution.QueryExecution.assertCommandExecuted(QueryExecution.scala:142)\n\tat org.apache.spark.sql.DataFrameWriter.runCommand(DataFrameWriter.scala:869)\n\tat org.apache.spark.sql.DataFrameWriter.saveToV1Source(DataFrameWriter.scala:391)\n\tat org.apache.spark.sql.DataFrameWriter.saveInternal(DataFrameWriter.scala:364)\n\tat org.apache.spark.sql.DataFrameWriter.save(DataFrameWriter.scala:251)\n\tat java.base/jdk.internal.reflect.NativeMethodAccessorImpl.invoke0(Native Method)\n\tat java.base/jdk.internal.reflect.NativeMethodAccessorImpl.invoke(NativeMethodAccessorImpl.java:62)\n\tat java.base/jdk.internal.reflect.DelegatingMethodAccessorImpl.invoke(DelegatingMethodAccessorImpl.java:43)\n\tat java.base/java.lang.reflect.Method.invoke(Method.java:566)\n\tat py4j.reflection.MethodInvoker.invoke(MethodInvoker.java:244)\n\tat py4j.reflection.ReflectionEngine.invoke(ReflectionEngine.java:374)\n\tat py4j.Gateway.invoke(Gateway.java:282)\n\tat py4j.commands.AbstractCommand.invokeMethod(AbstractCommand.java:132)\n\tat py4j.commands.CallCommand.execute(CallCommand.java:79)\n\tat py4j.ClientServerConnection.waitForCommands(ClientServerConnection.java:182)\n\tat py4j.ClientServerConnection.run(ClientServerConnection.java:106)\n\tat java.base/java.lang.Thread.run(Thread.java:829)\n",
     "output_type": "error",
     "traceback": [
      "\u001b[31m---------------------------------------------------------------------------\u001b[39m",
      "\u001b[31mPy4JJavaError\u001b[39m                             Traceback (most recent call last)",
      "\u001b[36mCell\u001b[39m\u001b[36m \u001b[39m\u001b[32mIn[133]\u001b[39m\u001b[32m, line 8\u001b[39m\n\u001b[32m      1\u001b[39m \u001b[43mdata_customer_info\u001b[49m\u001b[43m.\u001b[49m\u001b[43mwrite\u001b[49m\u001b[43m.\u001b[49m\u001b[43mformat\u001b[49m\u001b[43m(\u001b[49m\u001b[33;43m'\u001b[39;49m\u001b[33;43mjdbc\u001b[39;49m\u001b[33;43m'\u001b[39;49m\u001b[43m)\u001b[49m\u001b[43m \u001b[49m\u001b[43m\\\u001b[49m\n\u001b[32m      2\u001b[39m \u001b[43m  \u001b[49m\u001b[43m.\u001b[49m\u001b[43moption\u001b[49m\u001b[43m(\u001b[49m\u001b[33;43m'\u001b[39;49m\u001b[33;43murl\u001b[39;49m\u001b[33;43m'\u001b[39;49m\u001b[43m,\u001b[49m\u001b[33;43m'\u001b[39;49m\u001b[33;43mjdbc:mysql://mysql-db:3306/erp_spark\u001b[39;49m\u001b[33;43m'\u001b[39;49m\u001b[43m)\u001b[49m\u001b[43m \u001b[49m\u001b[43m\\\u001b[49m\n\u001b[32m      3\u001b[39m \u001b[43m  \u001b[49m\u001b[43m.\u001b[49m\u001b[43moption\u001b[49m\u001b[43m(\u001b[49m\u001b[33;43m\"\u001b[39;49m\u001b[33;43mdriver\u001b[39;49m\u001b[33;43m\"\u001b[39;49m\u001b[43m,\u001b[49m\u001b[43m \u001b[49m\u001b[33;43m\"\u001b[39;49m\u001b[33;43mcom.mysql.cj.jdbc.Driver\u001b[39;49m\u001b[33;43m\"\u001b[39;49m\u001b[43m)\u001b[49m\u001b[43m\\\u001b[49m\n\u001b[32m      4\u001b[39m \u001b[43m  \u001b[49m\u001b[43m.\u001b[49m\u001b[43moption\u001b[49m\u001b[43m(\u001b[49m\u001b[33;43m'\u001b[39;49m\u001b[33;43mdbtable\u001b[39;49m\u001b[33;43m'\u001b[39;49m\u001b[43m,\u001b[49m\u001b[33;43m'\u001b[39;49m\u001b[33;43mcustomer_info\u001b[39;49m\u001b[33;43m'\u001b[39;49m\u001b[43m)\u001b[49m\u001b[43m \u001b[49m\u001b[43m\\\u001b[49m\n\u001b[32m      5\u001b[39m \u001b[43m  \u001b[49m\u001b[43m.\u001b[49m\u001b[43moption\u001b[49m\u001b[43m(\u001b[49m\u001b[33;43m'\u001b[39;49m\u001b[33;43muser\u001b[39;49m\u001b[33;43m'\u001b[39;49m\u001b[43m,\u001b[49m\u001b[33;43m'\u001b[39;49m\u001b[33;43mroot\u001b[39;49m\u001b[33;43m'\u001b[39;49m\u001b[43m)\u001b[49m\u001b[43m \u001b[49m\u001b[43m\\\u001b[49m\n\u001b[32m      6\u001b[39m \u001b[43m  \u001b[49m\u001b[43m.\u001b[49m\u001b[43moption\u001b[49m\u001b[43m(\u001b[49m\u001b[33;43m'\u001b[39;49m\u001b[33;43mpassword\u001b[39;49m\u001b[33;43m'\u001b[39;49m\u001b[43m,\u001b[49m\u001b[33;43m'\u001b[39;49m\u001b[33;43mP@ssw0rd\u001b[39;49m\u001b[33;43m'\u001b[39;49m\u001b[43m)\u001b[49m\u001b[43m \u001b[49m\u001b[43m\\\u001b[49m\n\u001b[32m      7\u001b[39m \u001b[43m  \u001b[49m\u001b[43m.\u001b[49m\u001b[43mmode\u001b[49m\u001b[43m(\u001b[49m\u001b[33;43m'\u001b[39;49m\u001b[33;43moverwrite\u001b[39;49m\u001b[33;43m'\u001b[39;49m\u001b[43m)\u001b[49m\u001b[43m\\\u001b[49m\n\u001b[32m----> \u001b[39m\u001b[32m8\u001b[39m \u001b[43m  \u001b[49m\u001b[43m.\u001b[49m\u001b[43msave\u001b[49m\u001b[43m(\u001b[49m\u001b[43m)\u001b[49m\n",
      "\u001b[36mFile \u001b[39m\u001b[32m~/snowflake_dbt_spark/snowflake_dbt/lib/python3.12/site-packages/pyspark/sql/readwriter.py:1461\u001b[39m, in \u001b[36mDataFrameWriter.save\u001b[39m\u001b[34m(self, path, format, mode, partitionBy, **options)\u001b[39m\n\u001b[32m   1459\u001b[39m     \u001b[38;5;28mself\u001b[39m.format(\u001b[38;5;28mformat\u001b[39m)\n\u001b[32m   1460\u001b[39m \u001b[38;5;28;01mif\u001b[39;00m path \u001b[38;5;129;01mis\u001b[39;00m \u001b[38;5;28;01mNone\u001b[39;00m:\n\u001b[32m-> \u001b[39m\u001b[32m1461\u001b[39m     \u001b[38;5;28;43mself\u001b[39;49m\u001b[43m.\u001b[49m\u001b[43m_jwrite\u001b[49m\u001b[43m.\u001b[49m\u001b[43msave\u001b[49m\u001b[43m(\u001b[49m\u001b[43m)\u001b[49m\n\u001b[32m   1462\u001b[39m \u001b[38;5;28;01melse\u001b[39;00m:\n\u001b[32m   1463\u001b[39m     \u001b[38;5;28mself\u001b[39m._jwrite.save(path)\n",
      "\u001b[36mFile \u001b[39m\u001b[32m~/snowflake_dbt_spark/snowflake_dbt/lib/python3.12/site-packages/py4j/java_gateway.py:1322\u001b[39m, in \u001b[36mJavaMember.__call__\u001b[39m\u001b[34m(self, *args)\u001b[39m\n\u001b[32m   1316\u001b[39m command = proto.CALL_COMMAND_NAME +\\\n\u001b[32m   1317\u001b[39m     \u001b[38;5;28mself\u001b[39m.command_header +\\\n\u001b[32m   1318\u001b[39m     args_command +\\\n\u001b[32m   1319\u001b[39m     proto.END_COMMAND_PART\n\u001b[32m   1321\u001b[39m answer = \u001b[38;5;28mself\u001b[39m.gateway_client.send_command(command)\n\u001b[32m-> \u001b[39m\u001b[32m1322\u001b[39m return_value = \u001b[43mget_return_value\u001b[49m\u001b[43m(\u001b[49m\n\u001b[32m   1323\u001b[39m \u001b[43m    \u001b[49m\u001b[43manswer\u001b[49m\u001b[43m,\u001b[49m\u001b[43m \u001b[49m\u001b[38;5;28;43mself\u001b[39;49m\u001b[43m.\u001b[49m\u001b[43mgateway_client\u001b[49m\u001b[43m,\u001b[49m\u001b[43m \u001b[49m\u001b[38;5;28;43mself\u001b[39;49m\u001b[43m.\u001b[49m\u001b[43mtarget_id\u001b[49m\u001b[43m,\u001b[49m\u001b[43m \u001b[49m\u001b[38;5;28;43mself\u001b[39;49m\u001b[43m.\u001b[49m\u001b[43mname\u001b[49m\u001b[43m)\u001b[49m\n\u001b[32m   1325\u001b[39m \u001b[38;5;28;01mfor\u001b[39;00m temp_arg \u001b[38;5;129;01min\u001b[39;00m temp_args:\n\u001b[32m   1326\u001b[39m     \u001b[38;5;28;01mif\u001b[39;00m \u001b[38;5;28mhasattr\u001b[39m(temp_arg, \u001b[33m\"\u001b[39m\u001b[33m_detach\u001b[39m\u001b[33m\"\u001b[39m):\n",
      "\u001b[36mFile \u001b[39m\u001b[32m~/snowflake_dbt_spark/snowflake_dbt/lib/python3.12/site-packages/pyspark/errors/exceptions/captured.py:179\u001b[39m, in \u001b[36mcapture_sql_exception.<locals>.deco\u001b[39m\u001b[34m(*a, **kw)\u001b[39m\n\u001b[32m    177\u001b[39m \u001b[38;5;28;01mdef\u001b[39;00m\u001b[38;5;250m \u001b[39m\u001b[34mdeco\u001b[39m(*a: Any, **kw: Any) -> Any:\n\u001b[32m    178\u001b[39m     \u001b[38;5;28;01mtry\u001b[39;00m:\n\u001b[32m--> \u001b[39m\u001b[32m179\u001b[39m         \u001b[38;5;28;01mreturn\u001b[39;00m \u001b[43mf\u001b[49m\u001b[43m(\u001b[49m\u001b[43m*\u001b[49m\u001b[43ma\u001b[49m\u001b[43m,\u001b[49m\u001b[43m \u001b[49m\u001b[43m*\u001b[49m\u001b[43m*\u001b[49m\u001b[43mkw\u001b[49m\u001b[43m)\u001b[49m\n\u001b[32m    180\u001b[39m     \u001b[38;5;28;01mexcept\u001b[39;00m Py4JJavaError \u001b[38;5;28;01mas\u001b[39;00m e:\n\u001b[32m    181\u001b[39m         converted = convert_exception(e.java_exception)\n",
      "\u001b[36mFile \u001b[39m\u001b[32m~/snowflake_dbt_spark/snowflake_dbt/lib/python3.12/site-packages/py4j/protocol.py:326\u001b[39m, in \u001b[36mget_return_value\u001b[39m\u001b[34m(answer, gateway_client, target_id, name)\u001b[39m\n\u001b[32m    324\u001b[39m value = OUTPUT_CONVERTER[\u001b[38;5;28mtype\u001b[39m](answer[\u001b[32m2\u001b[39m:], gateway_client)\n\u001b[32m    325\u001b[39m \u001b[38;5;28;01mif\u001b[39;00m answer[\u001b[32m1\u001b[39m] == REFERENCE_TYPE:\n\u001b[32m--> \u001b[39m\u001b[32m326\u001b[39m     \u001b[38;5;28;01mraise\u001b[39;00m Py4JJavaError(\n\u001b[32m    327\u001b[39m         \u001b[33m\"\u001b[39m\u001b[33mAn error occurred while calling \u001b[39m\u001b[38;5;132;01m{0}\u001b[39;00m\u001b[38;5;132;01m{1}\u001b[39;00m\u001b[38;5;132;01m{2}\u001b[39;00m\u001b[33m.\u001b[39m\u001b[38;5;130;01m\\n\u001b[39;00m\u001b[33m\"\u001b[39m.\n\u001b[32m    328\u001b[39m         \u001b[38;5;28mformat\u001b[39m(target_id, \u001b[33m\"\u001b[39m\u001b[33m.\u001b[39m\u001b[33m\"\u001b[39m, name), value)\n\u001b[32m    329\u001b[39m \u001b[38;5;28;01melse\u001b[39;00m:\n\u001b[32m    330\u001b[39m     \u001b[38;5;28;01mraise\u001b[39;00m Py4JError(\n\u001b[32m    331\u001b[39m         \u001b[33m\"\u001b[39m\u001b[33mAn error occurred while calling \u001b[39m\u001b[38;5;132;01m{0}\u001b[39;00m\u001b[38;5;132;01m{1}\u001b[39;00m\u001b[38;5;132;01m{2}\u001b[39;00m\u001b[33m. Trace:\u001b[39m\u001b[38;5;130;01m\\n\u001b[39;00m\u001b[38;5;132;01m{3}\u001b[39;00m\u001b[38;5;130;01m\\n\u001b[39;00m\u001b[33m\"\u001b[39m.\n\u001b[32m    332\u001b[39m         \u001b[38;5;28mformat\u001b[39m(target_id, \u001b[33m\"\u001b[39m\u001b[33m.\u001b[39m\u001b[33m\"\u001b[39m, name, value))\n",
      "\u001b[31mPy4JJavaError\u001b[39m: An error occurred while calling o414.save.\n: java.lang.ClassNotFoundException: com.mysql.cj.jdbc.Driver\n\tat java.base/java.net.URLClassLoader.findClass(URLClassLoader.java:476)\n\tat java.base/java.lang.ClassLoader.loadClass(ClassLoader.java:594)\n\tat java.base/java.lang.ClassLoader.loadClass(ClassLoader.java:527)\n\tat org.apache.spark.sql.execution.datasources.jdbc.DriverRegistry$.register(DriverRegistry.scala:46)\n\tat org.apache.spark.sql.execution.datasources.jdbc.JDBCOptions.$anonfun$driverClass$1(JDBCOptions.scala:103)\n\tat org.apache.spark.sql.execution.datasources.jdbc.JDBCOptions.$anonfun$driverClass$1$adapted(JDBCOptions.scala:103)\n\tat scala.Option.foreach(Option.scala:407)\n\tat org.apache.spark.sql.execution.datasources.jdbc.JDBCOptions.<init>(JDBCOptions.scala:103)\n\tat org.apache.spark.sql.execution.datasources.jdbc.JdbcOptionsInWrite.<init>(JDBCOptions.scala:254)\n\tat org.apache.spark.sql.execution.datasources.jdbc.JdbcOptionsInWrite.<init>(JDBCOptions.scala:258)\n\tat org.apache.spark.sql.execution.datasources.jdbc.JdbcRelationProvider.createRelation(JdbcRelationProvider.scala:47)\n\tat org.apache.spark.sql.execution.datasources.SaveIntoDataSourceCommand.run(SaveIntoDataSourceCommand.scala:48)\n\tat org.apache.spark.sql.execution.command.ExecutedCommandExec.sideEffectResult$lzycompute(commands.scala:75)\n\tat org.apache.spark.sql.execution.command.ExecutedCommandExec.sideEffectResult(commands.scala:73)\n\tat org.apache.spark.sql.execution.command.ExecutedCommandExec.executeCollect(commands.scala:84)\n\tat org.apache.spark.sql.execution.QueryExecution$$anonfun$eagerlyExecuteCommands$1.$anonfun$applyOrElse$1(QueryExecution.scala:107)\n\tat org.apache.spark.sql.execution.SQLExecution$.$anonfun$withNewExecutionId$6(SQLExecution.scala:125)\n\tat org.apache.spark.sql.execution.SQLExecution$.withSQLConfPropagated(SQLExecution.scala:201)\n\tat org.apache.spark.sql.execution.SQLExecution$.$anonfun$withNewExecutionId$1(SQLExecution.scala:108)\n\tat org.apache.spark.sql.SparkSession.withActive(SparkSession.scala:900)\n\tat org.apache.spark.sql.execution.SQLExecution$.withNewExecutionId(SQLExecution.scala:66)\n\tat org.apache.spark.sql.execution.QueryExecution$$anonfun$eagerlyExecuteCommands$1.applyOrElse(QueryExecution.scala:107)\n\tat org.apache.spark.sql.execution.QueryExecution$$anonfun$eagerlyExecuteCommands$1.applyOrElse(QueryExecution.scala:98)\n\tat org.apache.spark.sql.catalyst.trees.TreeNode.$anonfun$transformDownWithPruning$1(TreeNode.scala:461)\n\tat org.apache.spark.sql.catalyst.trees.CurrentOrigin$.withOrigin(origin.scala:76)\n\tat org.apache.spark.sql.catalyst.trees.TreeNode.transformDownWithPruning(TreeNode.scala:461)\n\tat org.apache.spark.sql.catalyst.plans.logical.LogicalPlan.org$apache$spark$sql$catalyst$plans$logical$AnalysisHelper$$super$transformDownWithPruning(LogicalPlan.scala:32)\n\tat org.apache.spark.sql.catalyst.plans.logical.AnalysisHelper.transformDownWithPruning(AnalysisHelper.scala:267)\n\tat org.apache.spark.sql.catalyst.plans.logical.AnalysisHelper.transformDownWithPruning$(AnalysisHelper.scala:263)\n\tat org.apache.spark.sql.catalyst.plans.logical.LogicalPlan.transformDownWithPruning(LogicalPlan.scala:32)\n\tat org.apache.spark.sql.catalyst.plans.logical.LogicalPlan.transformDownWithPruning(LogicalPlan.scala:32)\n\tat org.apache.spark.sql.catalyst.trees.TreeNode.transformDown(TreeNode.scala:437)\n\tat org.apache.spark.sql.execution.QueryExecution.eagerlyExecuteCommands(QueryExecution.scala:98)\n\tat org.apache.spark.sql.execution.QueryExecution.commandExecuted$lzycompute(QueryExecution.scala:85)\n\tat org.apache.spark.sql.execution.QueryExecution.commandExecuted(QueryExecution.scala:83)\n\tat org.apache.spark.sql.execution.QueryExecution.assertCommandExecuted(QueryExecution.scala:142)\n\tat org.apache.spark.sql.DataFrameWriter.runCommand(DataFrameWriter.scala:869)\n\tat org.apache.spark.sql.DataFrameWriter.saveToV1Source(DataFrameWriter.scala:391)\n\tat org.apache.spark.sql.DataFrameWriter.saveInternal(DataFrameWriter.scala:364)\n\tat org.apache.spark.sql.DataFrameWriter.save(DataFrameWriter.scala:251)\n\tat java.base/jdk.internal.reflect.NativeMethodAccessorImpl.invoke0(Native Method)\n\tat java.base/jdk.internal.reflect.NativeMethodAccessorImpl.invoke(NativeMethodAccessorImpl.java:62)\n\tat java.base/jdk.internal.reflect.DelegatingMethodAccessorImpl.invoke(DelegatingMethodAccessorImpl.java:43)\n\tat java.base/java.lang.reflect.Method.invoke(Method.java:566)\n\tat py4j.reflection.MethodInvoker.invoke(MethodInvoker.java:244)\n\tat py4j.reflection.ReflectionEngine.invoke(ReflectionEngine.java:374)\n\tat py4j.Gateway.invoke(Gateway.java:282)\n\tat py4j.commands.AbstractCommand.invokeMethod(AbstractCommand.java:132)\n\tat py4j.commands.CallCommand.execute(CallCommand.java:79)\n\tat py4j.ClientServerConnection.waitForCommands(ClientServerConnection.java:182)\n\tat py4j.ClientServerConnection.run(ClientServerConnection.java:106)\n\tat java.base/java.lang.Thread.run(Thread.java:829)\n"
     ]
    }
   ],
   "source": [
    "data_customer_info.write.format('jdbc') \\\n",
    "  .option('url','jdbc:mysql://mysql-db:3306/erp_spark') \\\n",
    "  .option(\"driver\", \"com.mysql.cj.jdbc.Driver\")\\\n",
    "  .option('dbtable','customer_info') \\\n",
    "  .option('user','root') \\\n",
    "  .option('password','P@ssw0rd') \\\n",
    "  .mode('overwrite')\\\n",
    "  .save()\n"
   ]
  },
  {
   "cell_type": "code",
   "execution_count": null,
   "id": "816dd46e",
   "metadata": {},
   "outputs": [],
   "source": []
  },
  {
   "cell_type": "code",
   "execution_count": null,
   "id": "ca1c25c5",
   "metadata": {},
   "outputs": [],
   "source": []
  },
  {
   "cell_type": "code",
   "execution_count": null,
   "id": "ec863950",
   "metadata": {},
   "outputs": [],
   "source": []
  },
  {
   "cell_type": "code",
   "execution_count": null,
   "id": "31271a59",
   "metadata": {},
   "outputs": [],
   "source": []
  },
  {
   "cell_type": "code",
   "execution_count": null,
   "id": "afc26ad6",
   "metadata": {},
   "outputs": [],
   "source": []
  },
  {
   "cell_type": "code",
   "execution_count": null,
   "id": "0a88f29f",
   "metadata": {},
   "outputs": [],
   "source": []
  },
  {
   "cell_type": "code",
   "execution_count": null,
   "id": "0d96f01c",
   "metadata": {},
   "outputs": [],
   "source": []
  },
  {
   "cell_type": "code",
   "execution_count": null,
   "id": "8cc1f6b4",
   "metadata": {},
   "outputs": [],
   "source": []
  },
  {
   "cell_type": "code",
   "execution_count": null,
   "id": "bed6839d",
   "metadata": {},
   "outputs": [],
   "source": []
  },
  {
   "cell_type": "code",
   "execution_count": null,
   "id": "7e29bfe1",
   "metadata": {},
   "outputs": [],
   "source": []
  },
  {
   "cell_type": "code",
   "execution_count": null,
   "id": "320c3d5f",
   "metadata": {},
   "outputs": [],
   "source": []
  },
  {
   "cell_type": "code",
   "execution_count": null,
   "id": "c66c8da1",
   "metadata": {},
   "outputs": [],
   "source": []
  },
  {
   "cell_type": "code",
   "execution_count": null,
   "id": "fcbf8e91",
   "metadata": {},
   "outputs": [],
   "source": []
  },
  {
   "cell_type": "code",
   "execution_count": null,
   "id": "523b5e71",
   "metadata": {},
   "outputs": [],
   "source": []
  },
  {
   "cell_type": "code",
   "execution_count": null,
   "id": "eb1fd0c6",
   "metadata": {},
   "outputs": [],
   "source": []
  },
  {
   "cell_type": "code",
   "execution_count": null,
   "id": "812854df",
   "metadata": {},
   "outputs": [],
   "source": []
  },
  {
   "cell_type": "code",
   "execution_count": null,
   "id": "f9b2d8e7",
   "metadata": {},
   "outputs": [],
   "source": []
  },
  {
   "cell_type": "code",
   "execution_count": null,
   "id": "a89a88f0",
   "metadata": {},
   "outputs": [],
   "source": []
  },
  {
   "cell_type": "code",
   "execution_count": null,
   "id": "7784a5ef",
   "metadata": {},
   "outputs": [],
   "source": []
  },
  {
   "cell_type": "code",
   "execution_count": null,
   "id": "97c01702",
   "metadata": {},
   "outputs": [],
   "source": []
  },
  {
   "cell_type": "code",
   "execution_count": null,
   "id": "e53ff97b",
   "metadata": {},
   "outputs": [],
   "source": []
  },
  {
   "cell_type": "code",
   "execution_count": null,
   "id": "f805ee55",
   "metadata": {},
   "outputs": [],
   "source": []
  },
  {
   "cell_type": "code",
   "execution_count": null,
   "id": "f410ab51",
   "metadata": {},
   "outputs": [],
   "source": []
  },
  {
   "cell_type": "code",
   "execution_count": null,
   "id": "6acb056e",
   "metadata": {},
   "outputs": [],
   "source": []
  },
  {
   "cell_type": "code",
   "execution_count": null,
   "id": "c195905d",
   "metadata": {},
   "outputs": [],
   "source": []
  },
  {
   "cell_type": "code",
   "execution_count": null,
   "id": "de30b0a8",
   "metadata": {},
   "outputs": [],
   "source": []
  },
  {
   "cell_type": "code",
   "execution_count": null,
   "id": "2e321bfb",
   "metadata": {},
   "outputs": [],
   "source": []
  },
  {
   "cell_type": "code",
   "execution_count": null,
   "id": "a3557aee",
   "metadata": {},
   "outputs": [],
   "source": []
  },
  {
   "cell_type": "code",
   "execution_count": null,
   "id": "a692677a",
   "metadata": {},
   "outputs": [],
   "source": []
  },
  {
   "cell_type": "code",
   "execution_count": null,
   "id": "947d96b0",
   "metadata": {},
   "outputs": [],
   "source": []
  },
  {
   "cell_type": "code",
   "execution_count": null,
   "id": "7106671f",
   "metadata": {},
   "outputs": [],
   "source": []
  },
  {
   "cell_type": "code",
   "execution_count": null,
   "id": "dff7ffef",
   "metadata": {},
   "outputs": [],
   "source": []
  },
  {
   "cell_type": "code",
   "execution_count": null,
   "id": "6a253392",
   "metadata": {},
   "outputs": [],
   "source": []
  },
  {
   "cell_type": "code",
   "execution_count": null,
   "id": "ab91ea61",
   "metadata": {},
   "outputs": [],
   "source": []
  },
  {
   "cell_type": "code",
   "execution_count": null,
   "id": "b5c8fbf3",
   "metadata": {},
   "outputs": [],
   "source": []
  },
  {
   "cell_type": "code",
   "execution_count": null,
   "id": "9eebc3a7",
   "metadata": {},
   "outputs": [],
   "source": []
  },
  {
   "cell_type": "code",
   "execution_count": null,
   "id": "23af204f",
   "metadata": {},
   "outputs": [],
   "source": []
  },
  {
   "cell_type": "code",
   "execution_count": null,
   "id": "9f4121ba",
   "metadata": {},
   "outputs": [],
   "source": []
  },
  {
   "cell_type": "code",
   "execution_count": null,
   "id": "d525fa9c",
   "metadata": {},
   "outputs": [],
   "source": []
  }
 ],
 "metadata": {
  "kernelspec": {
   "display_name": "snowflake_dbt",
   "language": "python",
   "name": "python3"
  },
  "language_info": {
   "codemirror_mode": {
    "name": "ipython",
    "version": 3
   },
   "file_extension": ".py",
   "mimetype": "text/x-python",
   "name": "python",
   "nbconvert_exporter": "python",
   "pygments_lexer": "ipython3",
   "version": "3.12.3"
  }
 },
 "nbformat": 4,
 "nbformat_minor": 5
}
